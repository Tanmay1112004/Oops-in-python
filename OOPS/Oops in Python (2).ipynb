{
 "cells": [
  {
   "cell_type": "markdown",
   "id": "41725454-afec-4865-91b0-94478e9eeb76",
   "metadata": {},
   "source": [
    "# Day-91 (9th aug 2025)"
   ]
  },
  {
   "cell_type": "markdown",
   "id": "827dc533-cef3-4a30-9b3a-d4547aab4093",
   "metadata": {},
   "source": [
    "## Class\n",
    "   1. Inbuild class\n",
    "   2. User defined class\n",
    "\n",
    "## Method\n",
    "   1. Special method\n",
    "   2. User defined method\n",
    "\n",
    "## Object \n",
    "   - we create object of the class\n",
    "\n",
    "## Encapsulation\n",
    "    1. Variable\n",
    "         a. Instamce variable\n",
    "         b . class variable or static variable\n",
    "\n",
    "    2. Method\n",
    "         a. intance method\n",
    "         b. class method\n",
    "         c. static method\n",
    "\n",
    "## Inheritance \n",
    "   1. Singlelevel inheritance\n",
    "   2. multilevel inheritance\n",
    "   3. multiple inheritance\n",
    "   4. hybrid inheritance\n",
    "   5. constructore in inheritance\n",
    "\n",
    "## Polymorphisim\n",
    "   1. duck typing\n",
    "   2. operator overloading\n",
    "   3. method overloading\n",
    "   4. method overriding\n",
    "\n",
    "## Abstraction\n",
    "   1. anstract class\n",
    "   2. abstract method"
   ]
  },
  {
   "cell_type": "markdown",
   "id": "3d84859a-f436-4f09-a82d-09a992f40a95",
   "metadata": {},
   "source": [
    "class - design\n",
    "object - blueprint of the class\n",
    "         that means object can carry the design\n",
    "\n",
    "all real time solution are happining with the form of object\n",
    "python is a object oriented prohramming langauge\n",
    "\n"
   ]
  },
  {
   "cell_type": "code",
   "execution_count": 1,
   "id": "a9a40a32-b814-4657-8116-a635407b178e",
   "metadata": {},
   "outputs": [
    {
     "name": "stdout",
     "output_type": "stream",
     "text": [
      "<class 'int'>\n"
     ]
    }
   ],
   "source": [
    "a = 5 \n",
    "print(type(a))  # Inbuild class"
   ]
  },
  {
   "cell_type": "code",
   "execution_count": 2,
   "id": "a9f9a8b1-ea55-49c8-8b75-603b93b8bf8c",
   "metadata": {},
   "outputs": [
    {
     "name": "stdout",
     "output_type": "stream",
     "text": [
      "<class 'list'>\n"
     ]
    }
   ],
   "source": [
    "l = [1,2,3]\n",
    "print(type(l))"
   ]
  },
  {
   "cell_type": "code",
   "execution_count": 3,
   "id": "8b3b569b-c1b7-423e-9a74-3ea2db526e92",
   "metadata": {},
   "outputs": [
    {
     "data": {
      "text/plain": [
       "<__main__.computer at 0x26a57301fa0>"
      ]
     },
     "execution_count": 3,
     "metadata": {},
     "output_type": "execute_result"
    }
   ],
   "source": [
    "class computer:                 # computer is the class but user defined \n",
    "    def config():               # config is the method \n",
    "        print('i5', '8gb')\n",
    "\n",
    "com1 = computer()\n",
    "com1"
   ]
  },
  {
   "cell_type": "code",
   "execution_count": 4,
   "id": "dadb7cf3-5ab9-4e39-8355-11cd02cb830e",
   "metadata": {},
   "outputs": [
    {
     "name": "stdout",
     "output_type": "stream",
     "text": [
      "i5 8gb\n"
     ]
    }
   ],
   "source": [
    "def config():            # it is a function\n",
    "    print('i5', '8gb')\n",
    "config()"
   ]
  },
  {
   "cell_type": "code",
   "execution_count": 6,
   "id": "60e73b83-06b3-4620-8942-3d65db82c179",
   "metadata": {},
   "outputs": [],
   "source": [
    "class laptop():      # laptop is the class but user defined \n",
    "    def config():    # config is the method \n",
    "        print('i8', 'hp', 8)\n",
    "        print('i12', 'dell', 16)\n",
    "\n",
    "lap1 = laptop() # lap1 is the object of the class"
   ]
  },
  {
   "cell_type": "code",
   "execution_count": null,
   "id": "649fdee8-6373-4b6f-837e-8fef6e38ce9c",
   "metadata": {},
   "outputs": [],
   "source": [
    "# Define a function inside a class it is method \n",
    "# Define a function without a class it is a function"
   ]
  },
  {
   "cell_type": "code",
   "execution_count": 8,
   "id": "3b05334b-0afb-4519-83d7-010bf86e5028",
   "metadata": {},
   "outputs": [
    {
     "name": "stdout",
     "output_type": "stream",
     "text": [
      "i8 hp 8\n",
      "i12 dell 16\n"
     ]
    }
   ],
   "source": [
    "class laptop():      # laptop is the class but user defined \n",
    "    def config():    # config is the method \n",
    "        print('i8', 'hp', 8)\n",
    "        print('i12', 'dell', 16)\n",
    "\n",
    "lap1 = laptop() # lap1 is the object of the class\n",
    "laptop.config()  # for output classname.methodname"
   ]
  },
  {
   "cell_type": "code",
   "execution_count": 9,
   "id": "0c9bc3ae-090f-4b6a-b451-a06b11d61bf5",
   "metadata": {},
   "outputs": [
    {
     "ename": "TypeError",
     "evalue": "laptop.config() takes 0 positional arguments but 1 was given",
     "output_type": "error",
     "traceback": [
      "\u001b[1;31m---------------------------------------------------------------------------\u001b[0m",
      "\u001b[1;31mTypeError\u001b[0m                                 Traceback (most recent call last)",
      "Cell \u001b[1;32mIn[9], line 7\u001b[0m\n\u001b[0;32m      4\u001b[0m         \u001b[38;5;28mprint\u001b[39m(\u001b[38;5;124m'\u001b[39m\u001b[38;5;124mi12\u001b[39m\u001b[38;5;124m'\u001b[39m, \u001b[38;5;124m'\u001b[39m\u001b[38;5;124mdell\u001b[39m\u001b[38;5;124m'\u001b[39m, \u001b[38;5;241m16\u001b[39m)\n\u001b[0;32m      6\u001b[0m lap1 \u001b[38;5;241m=\u001b[39m laptop()\n\u001b[1;32m----> 7\u001b[0m lap1\u001b[38;5;241m.\u001b[39mconfig()\n",
      "\u001b[1;31mTypeError\u001b[0m: laptop.config() takes 0 positional arguments but 1 was given"
     ]
    }
   ],
   "source": [
    "class laptop():\n",
    "    def config():\n",
    "        print('i8', 'hp', 8)\n",
    "        print('i12', 'dell', 16)\n",
    "\n",
    "lap1 = laptop()\n",
    "lap1.config()"
   ]
  },
  {
   "cell_type": "code",
   "execution_count": 10,
   "id": "e8c66833-e56d-431f-a13a-41da35631f7e",
   "metadata": {},
   "outputs": [
    {
     "name": "stdout",
     "output_type": "stream",
     "text": [
      "i8 hp 8\n",
      "i12 dell 16\n"
     ]
    }
   ],
   "source": [
    "class laptop():\n",
    "    def config(self):           # self ac as a arguments\n",
    "        print('i8', 'hp', 8)\n",
    "        print('i12', 'dell', 16)\n",
    "\n",
    "lap1 = laptop()\n",
    "lap1.config()"
   ]
  },
  {
   "cell_type": "code",
   "execution_count": null,
   "id": "65522908-7415-4ec5-9c07-d1b5b6f79591",
   "metadata": {},
   "outputs": [],
   "source": [
    "# going further in oops cocepts 99% code must has to be writeen in (self)\n",
    "\n",
    "# self act like arguments"
   ]
  },
  {
   "cell_type": "code",
   "execution_count": 13,
   "id": "004a2d97-384c-49f5-b24b-41e619386c97",
   "metadata": {},
   "outputs": [
    {
     "name": "stdout",
     "output_type": "stream",
     "text": [
      "i8 hp 8\n",
      "i12 dell 16\n"
     ]
    }
   ],
   "source": [
    "class laptop():\n",
    "    def config(self):\n",
    "        print('i8', 'hp', 8)\n",
    "        print('i12', 'dell', 16)\n",
    "\n",
    "lap1 = laptop()\n",
    "laptop.config(lap1)"
   ]
  },
  {
   "cell_type": "code",
   "execution_count": null,
   "id": "653d5664-c98d-4e5f-b053-9e5dae415914",
   "metadata": {},
   "outputs": [],
   "source": [
    "# classname.methodname --> self is not required  \n",
    "# objectname.methodname --> self is required\n",
    "\n",
    "# every time we need to call the method with object only"
   ]
  },
  {
   "cell_type": "code",
   "execution_count": 14,
   "id": "b2848108-62a9-45ea-a882-a6bb72c9164b",
   "metadata": {},
   "outputs": [
    {
     "name": "stdout",
     "output_type": "stream",
     "text": [
      "i8 hp 8\n",
      "i12 dell 16\n",
      "i8 hp 8\n",
      "i12 dell 16\n",
      "i8 hp 8\n",
      "i12 dell 16\n"
     ]
    }
   ],
   "source": [
    "class laptop():            # class\n",
    "    def config(self):      # method\n",
    "        print('i8', 'hp', 8)\n",
    "        print('i12', 'dell', 16)\n",
    "\n",
    "lap1 = laptop()   # obj1\n",
    "lap2 = laptop()   # obj2\n",
    "lap3 = laptop()   # obj3\n",
    "\n",
    "lap1.config()\n",
    "lap3.config()\n",
    "lap2.config()"
   ]
  },
  {
   "cell_type": "code",
   "execution_count": 15,
   "id": "c7e14895-1e2c-48dc-8a8c-78de1113bd51",
   "metadata": {},
   "outputs": [
    {
     "name": "stdout",
     "output_type": "stream",
     "text": [
      "i8 hp 8\n",
      "i12 dell 16\n"
     ]
    }
   ],
   "source": [
    "class laptop():            # class\n",
    "    def config(self):      # method\n",
    "        print('i8', 'hp', 8)\n",
    "        print('i12', 'dell', 16)\n",
    "\n",
    "lap1 = laptop()   # obj1\n",
    "lap2 = laptop()   # obj2\n",
    "lap3 = laptop()   # obj3\n",
    "\n",
    "lap1.config()"
   ]
  },
  {
   "cell_type": "code",
   "execution_count": 17,
   "id": "b3443d30-ec22-4bb1-b212-71c4ae1e3f6c",
   "metadata": {},
   "outputs": [
    {
     "name": "stdout",
     "output_type": "stream",
     "text": [
      "<class 'float'>\n",
      "<class '__main__.computer'>\n"
     ]
    }
   ],
   "source": [
    "class computer:    # computer is class (user create the class hear (user defined class))\n",
    "    def config():  # config is method\n",
    "        print('i5', '8gb')\n",
    "\n",
    "a = 8.8\n",
    "print(type(a))\n",
    "\n",
    "com1 = computer() \n",
    "print(type(com1))"
   ]
  },
  {
   "cell_type": "code",
   "execution_count": null,
   "id": "4553c75c-ea39-489b-ae43-45330e26d5a6",
   "metadata": {},
   "outputs": [],
   "source": [
    "# special concept in python --->\n",
    "\n",
    "# __init__  =  specail method \n",
    "# __name__  = bydeafult it is called main function or main module"
   ]
  },
  {
   "cell_type": "code",
   "execution_count": 18,
   "id": "cb0c7de5-d3b2-4f3d-8994-3f58572fb0c4",
   "metadata": {},
   "outputs": [
    {
     "name": "stdout",
     "output_type": "stream",
     "text": [
      "i9 hp 8\n",
      "i12 dell 16\n"
     ]
    }
   ],
   "source": [
    "class laptop():\n",
    "    def __init__(self):\n",
    "        print('i9', 'hp', 8)\n",
    "        print('i12', 'dell', 16)\n",
    "\n",
    "lap = laptop()"
   ]
  },
  {
   "cell_type": "code",
   "execution_count": null,
   "id": "c75a5432-0f1e-4cc4-b4e8-48359d1e26c8",
   "metadata": {},
   "outputs": [],
   "source": [
    "# user defined method user need to call the method to get the print statement\n",
    "# __init__ special method user no need to call the method to get print statement\n",
    "\n",
    "# __init_ is called constructor and this is called special methos \n",
    "\n",
    "# IQ\n",
    "# whate is the diff b/w user defined method & special method "
   ]
  },
  {
   "cell_type": "code",
   "execution_count": 19,
   "id": "b0a1abb5-50c8-4258-97cf-fc890bf37ae2",
   "metadata": {},
   "outputs": [
    {
     "name": "stdout",
     "output_type": "stream",
     "text": [
      "i9 hp 8\n",
      "i12 dell 16\n",
      "\n",
      "i9 hp 8\n",
      "i12 dell 16\n",
      "\n",
      "i9 hp 8\n",
      "i12 dell 16\n"
     ]
    }
   ],
   "source": [
    "class laptop():\n",
    "    def __init__(self):\n",
    "        print('i9', 'hp', 8)\n",
    "        print('i12', 'dell', 16)\n",
    "\n",
    "lap = laptop()\n",
    "print()\n",
    "\n",
    "lap2 = laptop()\n",
    "print()\n",
    "\n",
    "lap3 = laptop()\n"
   ]
  },
  {
   "cell_type": "code",
   "execution_count": 21,
   "id": "ee6e4ed0-fc9c-4615-b34f-3098412b5945",
   "metadata": {},
   "outputs": [
    {
     "name": "stdout",
     "output_type": "stream",
     "text": [
      "i9 hp 8\n",
      "i12 dell 16\n",
      "\n",
      "i9 hp 8\n",
      "i12 dell 16\n",
      "\n",
      "i9 hp 8\n",
      "i12 dell 16\n"
     ]
    }
   ],
   "source": [
    "class laptop():\n",
    "    def __init__(self):\n",
    "        print('i9', 'hp', 8)\n",
    "        print('i12', 'dell', 16)\n",
    "\n",
    "lap = laptop()\n",
    "print()\n",
    "\n",
    "lap3 = laptop()\n",
    "print()\n",
    "\n",
    "lap3.__init__()\n"
   ]
  },
  {
   "cell_type": "code",
   "execution_count": 23,
   "id": "c309b932-67f0-471e-87c3-f945a3b5178a",
   "metadata": {},
   "outputs": [
    {
     "name": "stdout",
     "output_type": "stream",
     "text": [
      "in init\n",
      "in init\n",
      "in init\n"
     ]
    }
   ],
   "source": [
    "class computer:\n",
    "\n",
    "    def __init__(self):  # __init__ means intialize the vriable\n",
    "        print('in init')\n",
    "\n",
    "com1 = computer()\n",
    "com2 = computer()\n",
    "com3 = computer()"
   ]
  },
  {
   "cell_type": "code",
   "execution_count": 24,
   "id": "2a6f9f94-9050-4e53-9fb1-48d79ddc2e7f",
   "metadata": {},
   "outputs": [
    {
     "name": "stdout",
     "output_type": "stream",
     "text": [
      "in init\n",
      "i5 8gb\n"
     ]
    }
   ],
   "source": [
    "class computer:\n",
    "\n",
    "    def __init__(self):\n",
    "        print('in init')\n",
    "    \n",
    "    def config(self):\n",
    "        print('i5', '8gb')\n",
    "\n",
    "com1 = computer()\n",
    "\n",
    "com1.config()\n",
    "\n",
    "    "
   ]
  },
  {
   "cell_type": "code",
   "execution_count": 26,
   "id": "ee7f86fc-7bbc-406b-b99e-52819fa6afdb",
   "metadata": {},
   "outputs": [
    {
     "name": "stdout",
     "output_type": "stream",
     "text": [
      "in init\n",
      "in init\n",
      "i5 8gb\n"
     ]
    }
   ],
   "source": [
    "class computer:\n",
    "\n",
    "    def __init__(self):     # special method \n",
    "        print('in init')\n",
    "    \n",
    "    def config(self):        # user defined method\n",
    "        print('i5', '8gb')\n",
    "\n",
    "com1 = computer()\n",
    "com2 = computer()\n",
    "\n",
    "com1.config()\n",
    "\n",
    "    "
   ]
  },
  {
   "cell_type": "code",
   "execution_count": 28,
   "id": "11ce286c-9783-43a9-a49e-46d0dff61f5e",
   "metadata": {},
   "outputs": [
    {
     "name": "stdout",
     "output_type": "stream",
     "text": [
      "in init\n",
      "in init\n",
      "i5 8gb\n",
      "i5 8gb\n"
     ]
    }
   ],
   "source": [
    "class computer:\n",
    "    \n",
    "    def __init__(self):\n",
    "        print('in init')\n",
    "    \n",
    "    def config(self):\n",
    "        print('i5', '8gb')\n",
    "\n",
    "com1 = computer()\n",
    "com2 = computer()\n",
    "\n",
    "com1.config()\n",
    "com2.config()\n",
    "  "
   ]
  },
  {
   "cell_type": "code",
   "execution_count": 29,
   "id": "f9e1d63f-4143-44be-9d20-7c05f1333ee7",
   "metadata": {},
   "outputs": [
    {
     "ename": "TypeError",
     "evalue": "computer.__init__() takes 1 positional argument but 3 were given",
     "output_type": "error",
     "traceback": [
      "\u001b[1;31m---------------------------------------------------------------------------\u001b[0m",
      "\u001b[1;31mTypeError\u001b[0m                                 Traceback (most recent call last)",
      "Cell \u001b[1;32mIn[29], line 9\u001b[0m\n\u001b[0;32m      6\u001b[0m     \u001b[38;5;28;01mdef\u001b[39;00m \u001b[38;5;21mconfig\u001b[39m(\u001b[38;5;28mself\u001b[39m):\n\u001b[0;32m      7\u001b[0m         \u001b[38;5;28mprint\u001b[39m(\u001b[38;5;124m'\u001b[39m\u001b[38;5;124mi5\u001b[39m\u001b[38;5;124m'\u001b[39m, \u001b[38;5;124m'\u001b[39m\u001b[38;5;124m8gb\u001b[39m\u001b[38;5;124m'\u001b[39m)\n\u001b[1;32m----> 9\u001b[0m com1 \u001b[38;5;241m=\u001b[39m computer(\u001b[38;5;124m'\u001b[39m\u001b[38;5;124mi5\u001b[39m\u001b[38;5;124m'\u001b[39m, \u001b[38;5;241m8\u001b[39m)\n\u001b[0;32m     10\u001b[0m com2 \u001b[38;5;241m=\u001b[39m computer(\u001b[38;5;124m'\u001b[39m\u001b[38;5;124mi7\u001b[39m\u001b[38;5;124m'\u001b[39m, \u001b[38;5;241m16\u001b[39m)\n\u001b[0;32m     12\u001b[0m com1\u001b[38;5;241m.\u001b[39mconfig()\n",
      "\u001b[1;31mTypeError\u001b[0m: computer.__init__() takes 1 positional argument but 3 were given"
     ]
    }
   ],
   "source": [
    "class computer:\n",
    "    \n",
    "    def __init__(self):\n",
    "        print('in init')\n",
    "    \n",
    "    def config(self):\n",
    "        print('i5', '8gb')\n",
    "\n",
    "com1 = computer('i5', 8)\n",
    "com2 = computer('i7', 16)\n",
    "\n",
    "com1.config()\n",
    "com2.config()"
   ]
  },
  {
   "cell_type": "code",
   "execution_count": 30,
   "id": "fd88da49-6ce5-4c97-9b2a-b32c1a0c503d",
   "metadata": {},
   "outputs": [
    {
     "name": "stdout",
     "output_type": "stream",
     "text": [
      "in init\n",
      "in init\n",
      "i5 8gb\n",
      "i5 8gb\n"
     ]
    }
   ],
   "source": [
    "class computer:\n",
    "    \n",
    "    def __init__(self, cpu, ram):\n",
    "        print('in init')\n",
    "    \n",
    "    def config(self):\n",
    "        print('i5', '8gb')\n",
    "\n",
    "com1 = computer('i5', 8)\n",
    "com2 = computer('i7', 16)\n",
    "\n",
    "com1.config()\n",
    "com2.config()"
   ]
  },
  {
   "cell_type": "code",
   "execution_count": 31,
   "id": "1e2b80d3-a47d-4da9-bbd8-5bacef67241e",
   "metadata": {},
   "outputs": [
    {
     "name": "stdout",
     "output_type": "stream",
     "text": [
      "in init\n",
      "in init\n",
      "i5 8gb\n",
      "i7 16gb\n",
      "i5 8gb\n",
      "i7 16gb\n"
     ]
    }
   ],
   "source": [
    "class computer:\n",
    "    \n",
    "    def __init__(self, cpu, ram):\n",
    "        print('in init')\n",
    "    \n",
    "    def config(self):\n",
    "        print('i5', '8gb')\n",
    "        print('i7', '16gb')\n",
    "\n",
    "com1 = computer('i5', 8)\n",
    "com2 = computer('i7', 16)\n",
    "\n",
    "com1.config()\n",
    "com2.config()"
   ]
  },
  {
   "cell_type": "code",
   "execution_count": 33,
   "id": "1ab176a8-865e-4d14-8fb0-63b242992794",
   "metadata": {},
   "outputs": [
    {
     "name": "stdout",
     "output_type": "stream",
     "text": [
      "config is i5 8\n",
      "config is i7 16\n"
     ]
    }
   ],
   "source": [
    "class computer():\n",
    "\n",
    "    def __init__(self, cpu, ram):\n",
    "        self.cpu = cpu\n",
    "        self.ram = ram\n",
    "    \n",
    "    def config(self):\n",
    "        print('config is', self.cpu, self.ram)\n",
    "\n",
    "lap1 = computer('i5', 8)\n",
    "lap2 = computer('i7', 16)\n",
    "\n",
    "lap1.config()\n",
    "lap2.config()"
   ]
  },
  {
   "cell_type": "code",
   "execution_count": 37,
   "id": "5745db25-fca6-44d7-a899-9c4a53925d4d",
   "metadata": {},
   "outputs": [
    {
     "name": "stdout",
     "output_type": "stream",
     "text": [
      "laptop config is :  i5 8 32000\n",
      "laptop config is :  i7 16 64000\n"
     ]
    }
   ],
   "source": [
    "class computer():\n",
    "\n",
    "    def __init__(self, cpu, ram, price):\n",
    "        self.cpu = cpu\n",
    "        self.ram = ram\n",
    "        self.price = price\n",
    "    \n",
    "    def config(self):\n",
    "        print('laptop config is : ', self.cpu, self.ram, self.price)\n",
    "\n",
    "lap1 = computer('i5', 8, 32000)\n",
    "lap2 = computer('i7', 16, 64000)\n",
    "\n",
    "lap1.config()\n",
    "lap2.config()"
   ]
  },
  {
   "cell_type": "markdown",
   "id": "202c793c-c4b1-4bc6-8ae9-e53c2a8e7092",
   "metadata": {},
   "source": [
    "# Today we are completed\n",
    "  - class\n",
    "  - object\n",
    "  - method\n",
    "  - method argument\n",
    "  - self"
   ]
  },
  {
   "cell_type": "markdown",
   "id": "a2a469bc-7d5d-46a0-9bb4-f80550a8ab11",
   "metadata": {},
   "source": [
    "# Day - 92 (10th aug 2025)"
   ]
  },
  {
   "cell_type": "markdown",
   "id": "faa1abfa-8774-495a-8b6e-850fc3ef0658",
   "metadata": {},
   "source": [
    "# Recap :- \n",
    "\n",
    "2 type of class - inbuild() & user defined()\n",
    "object - blueprint of the class\n",
    "class name, meathod name, object = class()\n",
    "classname.meathodname --> self is not required\n",
    "objectname.meathodname --> self is required\n",
    "method 2 type --. specail method & user defined method\n",
    "special meathod -- __init__ & user def\n",
    "what is deff b/w special method and user def method\n",
    "--> special method user no need to call automatically print\n",
    "--> user defined user need to call print satatement\n",
    "\n",
    "self will act as argument and also self will act as object\n",
    "method with argument\n"
   ]
  },
  {
   "cell_type": "code",
   "execution_count": null,
   "id": "0fb0798c-4878-474d-b955-f082df1faef1",
   "metadata": {},
   "outputs": [],
   "source": [
    "# Constructor\n",
    "\n",
    "__init__ == constructor"
   ]
  },
  {
   "cell_type": "code",
   "execution_count": 1,
   "id": "f885408a-1549-4a39-9d7c-a16388728714",
   "metadata": {},
   "outputs": [
    {
     "ename": "IndentationError",
     "evalue": "expected an indented block after class definition on line 1 (2821934057.py, line 3)",
     "output_type": "error",
     "traceback": [
      "\u001b[1;36m  Cell \u001b[1;32mIn[1], line 3\u001b[1;36m\u001b[0m\n\u001b[1;33m    c1 = computer()   # c1 is object which refeering to class\u001b[0m\n\u001b[1;37m    ^\u001b[0m\n\u001b[1;31mIndentationError\u001b[0m\u001b[1;31m:\u001b[0m expected an indented block after class definition on line 1\n"
     ]
    }
   ],
   "source": [
    "class computer:   # computer class & every concept has a object\n",
    "\n",
    "c1 = computer()   # c1 is object which refeering to class\n",
    "print(id(c1))"
   ]
  },
  {
   "cell_type": "code",
   "execution_count": 2,
   "id": "097c9a77-c78a-4bee-a547-5829898d9827",
   "metadata": {},
   "outputs": [
    {
     "name": "stdout",
     "output_type": "stream",
     "text": [
      "1660191272896\n"
     ]
    }
   ],
   "source": [
    "class computer:   # computer class & every concept has a object\n",
    "    pass\n",
    "c1 = computer()   # c1 is object which refeering to class\n",
    "print(id(c1))"
   ]
  },
  {
   "cell_type": "code",
   "execution_count": 3,
   "id": "26e2e9b9-d613-47e8-9fa4-caf7cc38859d",
   "metadata": {},
   "outputs": [
    {
     "name": "stdout",
     "output_type": "stream",
     "text": [
      "1660194990672\n",
      "1660191272896\n"
     ]
    }
   ],
   "source": [
    "class computer:\n",
    "    pass\n",
    "\n",
    "c1 = computer()\n",
    "c2 = computer()\n",
    "\n",
    "print(id(c1))\n",
    "print(id(c2))"
   ]
  },
  {
   "cell_type": "code",
   "execution_count": 4,
   "id": "3e0b2bc2-1c84-4d3b-adce-7f7ded3012fb",
   "metadata": {},
   "outputs": [
    {
     "name": "stdout",
     "output_type": "stream",
     "text": [
      "akash 37\n",
      "akash\n"
     ]
    }
   ],
   "source": [
    "class computer:\n",
    "    def __init__(self):\n",
    "        self.name = 'akash'\n",
    "        self.age = 37\n",
    "\n",
    "c1 = computer()\n",
    "c2 = computer()\n",
    "\n",
    "print(c1.name, c1.age)\n",
    "print(c2.name)"
   ]
  },
  {
   "cell_type": "code",
   "execution_count": 7,
   "id": "ff690ab7-13f8-4aab-9b9c-ba1d76c3964d",
   "metadata": {},
   "outputs": [
    {
     "name": "stdout",
     "output_type": "stream",
     "text": [
      "rakesh\n",
      "mit\n"
     ]
    }
   ],
   "source": [
    "class computer:\n",
    "    def __init__(self):\n",
    "        self.name = 'akash'\n",
    "        self.age = 37\n",
    "\n",
    "c1 = computer()\n",
    "c2 = computer()\n",
    "\n",
    "c2.name = 'mit'\n",
    "c1.name = 'rakesh'\n",
    "\n",
    "\n",
    "print(c1.name)\n",
    "print(c2.name)"
   ]
  },
  {
   "cell_type": "code",
   "execution_count": 9,
   "id": "f2e06317-f744-4c9f-a6f6-a87ddcfa72b2",
   "metadata": {},
   "outputs": [
    {
     "name": "stdout",
     "output_type": "stream",
     "text": [
      "rakesh 37\n",
      "mit 40\n"
     ]
    }
   ],
   "source": [
    "class computer:\n",
    "    def __init__(self):\n",
    "        self.name = 'akash'\n",
    "        self.age = 37\n",
    "\n",
    "c1 = computer()\n",
    "c2 = computer()\n",
    "\n",
    "c2.name = 'mit'\n",
    "c2.age = 40\n",
    "c1.name = 'rakesh'\n",
    "c1.age = 37\n",
    "\n",
    "\n",
    "print(c1.name, c1.age)\n",
    "print(c2.name, c2.age)"
   ]
  },
  {
   "cell_type": "code",
   "execution_count": null,
   "id": "e694bef7-9266-493d-a949-3f9445737fcb",
   "metadata": {},
   "outputs": [],
   "source": [
    "# Constructor, self, object"
   ]
  },
  {
   "cell_type": "markdown",
   "id": "b9328ef7-dc51-4cf3-98a8-2374195ab822",
   "metadata": {},
   "source": [
    "# ENCAPSULATION"
   ]
  },
  {
   "cell_type": "code",
   "execution_count": null,
   "id": "b120e4c0-c3a6-479a-ad2a-104133cd680e",
   "metadata": {},
   "outputs": [],
   "source": [
    "# This encapsulations concept comes from object\n",
    "\n",
    "1. Variables\n",
    "   1. Instance variable\n",
    "   2. Class variable == static variable\n",
    "\n",
    "2. methods\n",
    "   1. Instance method\n",
    "   2. Class meth0d\n",
    "   3. Satic method\n",
    "\n",
    "\n",
    "class variable == static variable but class method not equal to static method"
   ]
  },
  {
   "cell_type": "code",
   "execution_count": 11,
   "id": "be1f0b42-f5cc-4408-a043-7856510b7bb7",
   "metadata": {},
   "outputs": [
    {
     "name": "stdout",
     "output_type": "stream",
     "text": [
      "bmw 10\n",
      "bmw 10\n",
      "1660194990480\n",
      "1660195109776\n"
     ]
    }
   ],
   "source": [
    "class car:\n",
    "    def __init__(self):\n",
    "        self.mil = 10      #instance variable\n",
    "        self.car = 'bmw'   #instance variable\n",
    "\n",
    "c1 = car()\n",
    "c2 = car()\n",
    "\n",
    "print(c1.car, c1.mil)\n",
    "print(c2.car, c2.mil)\n",
    "\n",
    "print(id(c1))\n",
    "print(id(c2))\n"
   ]
  },
  {
   "cell_type": "code",
   "execution_count": null,
   "id": "926118d8-cb8d-4ca6-96ab-1ea8c66856b4",
   "metadata": {},
   "outputs": [],
   "source": [
    "# the variable which define inside special method is called instance variable"
   ]
  },
  {
   "cell_type": "code",
   "execution_count": 12,
   "id": "4bfeb77b-6623-4467-a835-d9de63153975",
   "metadata": {},
   "outputs": [
    {
     "name": "stdout",
     "output_type": "stream",
     "text": [
      "maruti 20\n",
      "bmw 10\n",
      "1660194990672\n",
      "1660194990480\n"
     ]
    }
   ],
   "source": [
    "class car:\n",
    "    def __init__(self):\n",
    "        self.mil = 10      #instance variable\n",
    "        self.car = 'bmw'   #instance variable\n",
    "\n",
    "c1 = car()\n",
    "c2 = car()\n",
    "\n",
    "c1.car = 'maruti'\n",
    "c1.mil = 20\n",
    "\n",
    "print(c1.car, c1.mil)\n",
    "print(c2.car, c2.mil)\n",
    "\n",
    "print(id(c1))\n",
    "print(id(c2))\n"
   ]
  },
  {
   "cell_type": "code",
   "execution_count": 13,
   "id": "52cb90f2-8c96-4f6e-aefd-5b2fbd129436",
   "metadata": {},
   "outputs": [
    {
     "name": "stdout",
     "output_type": "stream",
     "text": [
      "maruti 20\n",
      "bmw 8\n"
     ]
    }
   ],
   "source": [
    "class car:\n",
    "    def __init__(self):\n",
    "        self.mil = 10      #instance variable\n",
    "        self.car = 'bmw'   #instance variable\n",
    "\n",
    "c1 = car()\n",
    "c2 = car()\n",
    "\n",
    "c1.car = 'maruti'\n",
    "c1.mil = 20\n",
    "c2.mil = 8\n",
    "\n",
    "print(c1.car, c1.mil)\n",
    "print(c2.car, c2.mil)"
   ]
  },
  {
   "cell_type": "code",
   "execution_count": null,
   "id": "9aa91245-4a87-4ba4-b2de-f18a5197246e",
   "metadata": {},
   "outputs": [],
   "source": [
    "# what is diff b/w local variable and instance variable\n",
    "--> local variable define inside the function\n",
    "---> instance variable we define inside a specail method"
   ]
  },
  {
   "cell_type": "code",
   "execution_count": null,
   "id": "b94c21a2-3c7b-4fd4-9e2d-099104c6d98c",
   "metadata": {},
   "outputs": [],
   "source": [
    "# what is class variable \n",
    "--> the variable which define outside of instance variable is called class variable"
   ]
  },
  {
   "cell_type": "code",
   "execution_count": 14,
   "id": "406887dc-75bb-4355-8ea9-396a297cae48",
   "metadata": {},
   "outputs": [
    {
     "name": "stdout",
     "output_type": "stream",
     "text": [
      "bmw 10 5\n",
      "bmw 8 5\n"
     ]
    }
   ],
   "source": [
    "class car:\n",
    "\n",
    "    wheels = 5  # this is called class variable or static variable\n",
    "\n",
    "    def __init__(self):\n",
    "        self.mil = 10       # instance variable\n",
    "        self.com = 'bmw'    # instamce variable\n",
    "\n",
    "c1 = car()\n",
    "c2 = car()\n",
    "\n",
    "c2.mil = 8 \n",
    "\n",
    "print(c1.com, c1.mil, c1.wheels)\n",
    "print(c2.com, c2.mil, c2.wheels)\n"
   ]
  },
  {
   "cell_type": "code",
   "execution_count": 16,
   "id": "47583924-d535-49b5-b2bd-e53785be09f1",
   "metadata": {},
   "outputs": [
    {
     "name": "stdout",
     "output_type": "stream",
     "text": [
      "bmw 10 6\n",
      "bmw 8 7\n"
     ]
    }
   ],
   "source": [
    "class car:\n",
    "\n",
    "    wheels = 6  # this is called class variable or static variable\n",
    "\n",
    "    def __init__(self):\n",
    "        self.mil = 10       # instance variable\n",
    "        self.com = 'bmw'    # instamce variable\n",
    "\n",
    "c1 = car()\n",
    "c2 = car()\n",
    "\n",
    "c2.mil = 8 \n",
    "c2.wheels = 7\n",
    "\n",
    "print(c1.com, c1.mil, c1.wheels)\n",
    "print(c2.com, c2.mil, c2.wheels)\n"
   ]
  },
  {
   "cell_type": "code",
   "execution_count": null,
   "id": "267293fb-c581-4e0c-ae51-e850f9251b5a",
   "metadata": {},
   "outputs": [],
   "source": [
    "# instance variable -- instance namespace\n",
    "# class variable -- class namespace"
   ]
  },
  {
   "cell_type": "code",
   "execution_count": null,
   "id": "4d52f7da-c447-4beb-bdd1-53d6d3cf5fb4",
   "metadata": {},
   "outputs": [],
   "source": [
    "# 3 tpes of method\n",
    "\n",
    "1. Instance method\n",
    "2. class method\n",
    "3. static method"
   ]
  },
  {
   "cell_type": "code",
   "execution_count": 23,
   "id": "63ca0349-3781-4d40-9c7f-ec5e37d75ff3",
   "metadata": {},
   "outputs": [
    {
     "name": "stdout",
     "output_type": "stream",
     "text": [
      "20.0\n",
      "10.0\n"
     ]
    }
   ],
   "source": [
    "class student:\n",
    "\n",
    "    school = 'nit'  # class variable\n",
    "\n",
    "    def __init__(self, m1, m2, m3):  # instance variables\n",
    "        self.m1 = m1\n",
    "        self.m2 = m2\n",
    "        self.m3 = m3\n",
    "\n",
    "    def avg(self):  # instance method\n",
    "        return (self.m1 + self.m2 + self.m3) / 3  \n",
    "\n",
    "\n",
    "s1 = student(10, 20, 30)\n",
    "s2 = student(5, 15, 10)\n",
    "\n",
    "print(s1.avg())  # 20.0\n",
    "print(s2.avg())  # 10.0\n"
   ]
  },
  {
   "cell_type": "code",
   "execution_count": null,
   "id": "f552ce6a-1466-419f-8918-9c3cb3bc8bc3",
   "metadata": {},
   "outputs": [],
   "source": [
    "# instance method accecs instance variable\n",
    "# class method acces class variable"
   ]
  },
  {
   "cell_type": "code",
   "execution_count": null,
   "id": "75c9ca57-872a-4aec-84ad-021ae5780b48",
   "metadata": {},
   "outputs": [],
   "source": [
    "what is user defined method\n",
    "what is special method\n",
    "what is instance method\n",
    "what is class method\n",
    "what is  method\n",
    "what is abstract method\n",
    "what is magic method"
   ]
  },
  {
   "cell_type": "code",
   "execution_count": 24,
   "id": "70de13bc-5197-44dd-a0d6-371324cf6fa3",
   "metadata": {},
   "outputs": [
    {
     "name": "stdout",
     "output_type": "stream",
     "text": [
      "20.0\n",
      "10.0\n",
      "10\n"
     ]
    }
   ],
   "source": [
    "class student:\n",
    "\n",
    "    school = 'nit'  # class variable\n",
    "\n",
    "    def __init__(self, m1, m2, m3):  # instance variables\n",
    "        self.m1 = m1\n",
    "        self.m2 = m2\n",
    "        self.m3 = m3\n",
    "\n",
    "    def avg(self):  # instance method\n",
    "        return (self.m1 + self.m2 + self.m3) / 3  \n",
    "\n",
    "\n",
    "s1 = student(10, 20, 30)\n",
    "s2 = student(5, 15, 10)\n",
    "\n",
    "print(s1.avg())  # 20.0\n",
    "print(s2.avg())  # 10.0\n",
    "\n",
    "print(s1.m1)"
   ]
  },
  {
   "cell_type": "code",
   "execution_count": null,
   "id": "711db774-508a-4759-92d4-157edd8533c1",
   "metadata": {},
   "outputs": [],
   "source": [
    "# instance method -- access only instance variable\n",
    "# class method - - access only class variable"
   ]
  },
  {
   "cell_type": "code",
   "execution_count": 25,
   "id": "b0c0d824-7bfc-417c-a3d5-72537fb4131f",
   "metadata": {},
   "outputs": [
    {
     "name": "stdout",
     "output_type": "stream",
     "text": [
      "20.0\n",
      "10.0\n",
      "nit\n",
      "nit\n"
     ]
    }
   ],
   "source": [
    "class student:  \n",
    "\n",
    "    school = 'nit'  # class variable\n",
    "\n",
    "    def __init__(self, m1, m2, m3):   # spaecial method\n",
    "        self.m1 = m1   # instance variables\n",
    "        self.m2 = m2   # instance variables\n",
    "        self.m3 = m3   # instance variables\n",
    "\n",
    "    def avg(self):  \n",
    "        return (self.m1 + self.m2 + self.m3) / 3\n",
    "    \n",
    "    def info(cls):  # user need to define cls - for class variable\n",
    "        return cls.school\n",
    "\n",
    " \n",
    "\n",
    "\n",
    "s1 = student(10, 20, 30)\n",
    "s2 = student(5, 15, 10)\n",
    "\n",
    "print(s1.avg())  # instance method\n",
    "print(s2.avg())  # instance method\n",
    "\n",
    "print(s1.info()) # class method\n",
    "print(s2.info()) # class method"
   ]
  },
  {
   "cell_type": "code",
   "execution_count": null,
   "id": "9a214e5b-33ed-4c12-a83f-4b6a9080ce2e",
   "metadata": {},
   "outputs": [],
   "source": [
    "# to declare class method make sure (you need to pass cls as an argument)"
   ]
  },
  {
   "cell_type": "code",
   "execution_count": 26,
   "id": "d1f65f2a-8722-4dca-9edb-f6503d181f06",
   "metadata": {},
   "outputs": [
    {
     "name": "stdout",
     "output_type": "stream",
     "text": [
      "20.0\n",
      "10.0\n"
     ]
    },
    {
     "ename": "TypeError",
     "evalue": "student.info() missing 1 required positional argument: 'cls'",
     "output_type": "error",
     "traceback": [
      "\u001b[1;31m---------------------------------------------------------------------------\u001b[0m",
      "\u001b[1;31mTypeError\u001b[0m                                 Traceback (most recent call last)",
      "Cell \u001b[1;32mIn[26], line 25\u001b[0m\n\u001b[0;32m     22\u001b[0m \u001b[38;5;28mprint\u001b[39m(s1\u001b[38;5;241m.\u001b[39mavg())  \u001b[38;5;66;03m# instance method\u001b[39;00m\n\u001b[0;32m     23\u001b[0m \u001b[38;5;28mprint\u001b[39m(s2\u001b[38;5;241m.\u001b[39mavg())  \u001b[38;5;66;03m# instance method\u001b[39;00m\n\u001b[1;32m---> 25\u001b[0m \u001b[38;5;28mprint\u001b[39m(student\u001b[38;5;241m.\u001b[39minfo()) \n\u001b[0;32m     26\u001b[0m \u001b[38;5;28mprint\u001b[39m(student\u001b[38;5;241m.\u001b[39minfo())\n",
      "\u001b[1;31mTypeError\u001b[0m: student.info() missing 1 required positional argument: 'cls'"
     ]
    }
   ],
   "source": [
    "class student:  \n",
    "\n",
    "    school = 'nit'  # class variable\n",
    "\n",
    "    def __init__(self, m1, m2, m3):   # spaecial method\n",
    "        self.m1 = m1   # instance variables\n",
    "        self.m2 = m2   # instance variables\n",
    "        self.m3 = m3   # instance variables\n",
    "\n",
    "    def avg(self):  \n",
    "        return (self.m1 + self.m2 + self.m3) / 3\n",
    "    \n",
    "    def info(cls):  # user need to define cls - for class variable\n",
    "        return cls.school\n",
    "\n",
    " \n",
    "\n",
    "\n",
    "s1 = student(10, 20, 30)\n",
    "s2 = student(5, 15, 10)\n",
    "\n",
    "print(s1.avg())  # instance method\n",
    "print(s2.avg())  # instance method\n",
    "\n",
    "print(student.info()) \n",
    "print(student.info()) "
   ]
  },
  {
   "cell_type": "code",
   "execution_count": 30,
   "id": "d0476317-a4fb-4f40-a463-191155809a2a",
   "metadata": {},
   "outputs": [
    {
     "name": "stdout",
     "output_type": "stream",
     "text": [
      "20.0\n",
      "10.0\n",
      "nit\n",
      "nit\n"
     ]
    }
   ],
   "source": [
    "class student:  \n",
    "\n",
    "    school = 'nit'  # class variable\n",
    "\n",
    "    def __init__(self, m1, m2, m3):   # spaecial method\n",
    "        self.m1 = m1   # instance variables\n",
    "        self.m2 = m2   # instance variables\n",
    "        self.m3 = m3   # instance variables\n",
    "\n",
    "    def avg(self):  \n",
    "        return (self.m1 + self.m2 + self.m3) / 3\n",
    "    \n",
    "    def info(cls):  # user need to define cls - for class variable\n",
    "        return cls.school\n",
    "\n",
    " \n",
    "\n",
    "\n",
    "s1 = student(10, 20, 30)\n",
    "s2 = student(5, 15, 10)\n",
    "\n",
    "print(s1.avg())  # instance method\n",
    "print(s2.avg())  # instance method\n",
    "\n",
    "print(s1.info()) # class method\n",
    "print(s2.info()) # class method"
   ]
  },
  {
   "cell_type": "code",
   "execution_count": 34,
   "id": "f29b0cde-e56d-4b26-bdc4-e4aa01773377",
   "metadata": {},
   "outputs": [
    {
     "name": "stdout",
     "output_type": "stream",
     "text": [
      "20.0\n",
      "10.0\n",
      "nit\n",
      "nit\n"
     ]
    }
   ],
   "source": [
    "class student:  \n",
    "\n",
    "    school = 'nit'  # class variable\n",
    "\n",
    "    def __init__(self, m1, m2, m3):   # spaecial method\n",
    "        self.m1 = m1   # instance variables\n",
    "        self.m2 = m2   # instance variables\n",
    "        self.m3 = m3   # instance variables\n",
    "\n",
    "    def avg(self):  \n",
    "        return (self.m1 + self.m2 + self.m3) / 3\n",
    "    @classmethod # decorator\n",
    "    def info(cls):  # user need to define cls - for class variable\n",
    "        return cls.school\n",
    "\n",
    " \n",
    "\n",
    "\n",
    "s1 = student(10, 20, 30)\n",
    "s2 = student(5, 15, 10)\n",
    "\n",
    "print(s1.avg())  # instance method\n",
    "print(s2.avg())  # instance method\n",
    "\n",
    "print(student.info()) \n",
    "print(student.info()) "
   ]
  },
  {
   "cell_type": "code",
   "execution_count": 35,
   "id": "5cf59284-e4c0-4cee-b02a-06d6f078ccda",
   "metadata": {},
   "outputs": [
    {
     "name": "stdout",
     "output_type": "stream",
     "text": [
      "20.0\n",
      "10.0\n",
      "nit\n",
      "nit\n"
     ]
    }
   ],
   "source": [
    "class student:  \n",
    "\n",
    "    school = 'nit'  # class variable\n",
    "\n",
    "    def __init__(self, m1, m2, m3):   # spaecial method\n",
    "        self.m1 = m1   # instance variables\n",
    "        self.m2 = m2   # instance variables\n",
    "        self.m3 = m3   # instance variables\n",
    "\n",
    "    def avg(self):  \n",
    "        return (self.m1 + self.m2 + self.m3) / 3\n",
    "    @classmethod # decorator\n",
    "    def info(cls):  # user need to define cls - for class variable\n",
    "        return cls.school\n",
    "\n",
    " \n",
    "\n",
    "\n",
    "s1 = student(10, 20, 30)\n",
    "s2 = student(5, 15, 10)\n",
    "\n",
    "print(s1.avg())  # instance method\n",
    "print(s2.avg())  # instance method\n",
    "\n",
    "print(s1.info()) \n",
    "print(s2.info()) "
   ]
  },
  {
   "cell_type": "code",
   "execution_count": null,
   "id": "3a6d9289-a860-4161-9934-4d4831c908ca",
   "metadata": {},
   "outputs": [],
   "source": [
    "# where are you use decorator in python\n",
    "- class method\n",
    "- static method\n",
    "- abstract method\n"
   ]
  },
  {
   "cell_type": "code",
   "execution_count": 33,
   "id": "e98e4600-6b74-472b-a177-17ca7e887f95",
   "metadata": {},
   "outputs": [
    {
     "name": "stdout",
     "output_type": "stream",
     "text": [
      "20.0\n",
      "10.0\n",
      "nit\n",
      "This is student class\n"
     ]
    }
   ],
   "source": [
    "class student:  \n",
    "\n",
    "    school = 'nit'  # class variable\n",
    "\n",
    "    def __init__(self, m1, m2, m3):   # special method\n",
    "        self.m1 = m1   # instance variables\n",
    "        self.m2 = m2\n",
    "        self.m3 = m3\n",
    "\n",
    "    def avg(self):   # instance method\n",
    "        return (self.m1 + self.m2 + self.m3) / 3\n",
    "    \n",
    "    @classmethod  # class method\n",
    "    def getschool(cls):  \n",
    "        return cls.school\n",
    "    \n",
    "    @staticmethod  # static method\n",
    "    def info():\n",
    "        print('This is student class')\n",
    "        \n",
    "\n",
    "s1 = student(10, 20, 30)\n",
    "s2 = student(5, 15, 10)\n",
    "\n",
    "print(s1.avg())  # 20.0\n",
    "print(s2.avg())  # 10.0\n",
    "\n",
    "print(student.getschool())  # nit\n",
    "\n",
    "student.info()  # This is student class\n"
   ]
  },
  {
   "cell_type": "markdown",
   "id": "57e17df0-895c-44a6-819a-2ff514fea1e6",
   "metadata": {},
   "source": [
    "# Inner class\n",
    "\n",
    "- class inside class is called inner class"
   ]
  },
  {
   "cell_type": "code",
   "execution_count": 37,
   "id": "5876e684-2776-4b58-ad9e-8aebabe89202",
   "metadata": {},
   "outputs": [
    {
     "name": "stdout",
     "output_type": "stream",
     "text": [
      "a 1\n",
      "b 2\n"
     ]
    }
   ],
   "source": [
    "class student:\n",
    "    def __init__(self, name, rollno):\n",
    "        self.name = name\n",
    "        self.rollno = rollno\n",
    "\n",
    "s1 = student('a',1)\n",
    "s2 = student('b', 2)\n",
    "\n",
    "print(s1.name, s1.rollno)\n",
    "print(s2.name, s2.rollno)"
   ]
  },
  {
   "cell_type": "code",
   "execution_count": 41,
   "id": "dcad027c-73eb-400b-9207-4a325ff4417e",
   "metadata": {},
   "outputs": [
    {
     "name": "stdout",
     "output_type": "stream",
     "text": [
      "a 1\n",
      "b 2\n"
     ]
    }
   ],
   "source": [
    "class student:\n",
    "    def __init__(self, name, rollno):\n",
    "        self.name = name\n",
    "        self.rollno = rollno\n",
    "    \n",
    "    def show(self):\n",
    "        print(self.name, self.rollno)\n",
    "\n",
    "s1 = student('a',1)\n",
    "s2 = student('b', 2)\n",
    "\n",
    "s1.show()\n",
    "s2.show()"
   ]
  },
  {
   "cell_type": "code",
   "execution_count": 42,
   "id": "91cc33be-d01b-44fc-a6ea-1cdc91e53da0",
   "metadata": {},
   "outputs": [
    {
     "ename": "TypeError",
     "evalue": "student.__init__() takes 3 positional arguments but 6 were given",
     "output_type": "error",
     "traceback": [
      "\u001b[1;31m---------------------------------------------------------------------------\u001b[0m",
      "\u001b[1;31mTypeError\u001b[0m                                 Traceback (most recent call last)",
      "Cell \u001b[1;32mIn[42], line 9\u001b[0m\n\u001b[0;32m      6\u001b[0m     \u001b[38;5;28;01mdef\u001b[39;00m \u001b[38;5;21mshow\u001b[39m(\u001b[38;5;28mself\u001b[39m):\n\u001b[0;32m      7\u001b[0m         \u001b[38;5;28mprint\u001b[39m(\u001b[38;5;28mself\u001b[39m\u001b[38;5;241m.\u001b[39mname, \u001b[38;5;28mself\u001b[39m\u001b[38;5;241m.\u001b[39mrollno)\n\u001b[1;32m----> 9\u001b[0m s1 \u001b[38;5;241m=\u001b[39m student(\u001b[38;5;124m'\u001b[39m\u001b[38;5;124ma\u001b[39m\u001b[38;5;124m'\u001b[39m,\u001b[38;5;241m1\u001b[39m, \u001b[38;5;124m'\u001b[39m\u001b[38;5;124mhp\u001b[39m\u001b[38;5;124m'\u001b[39m, \u001b[38;5;124m'\u001b[39m\u001b[38;5;124mi5\u001b[39m\u001b[38;5;124m'\u001b[39m, \u001b[38;5;241m8\u001b[39m)\n\u001b[0;32m     10\u001b[0m s2 \u001b[38;5;241m=\u001b[39m student(\u001b[38;5;124m'\u001b[39m\u001b[38;5;124mb\u001b[39m\u001b[38;5;124m'\u001b[39m, \u001b[38;5;241m2\u001b[39m)\n\u001b[0;32m     12\u001b[0m s1\u001b[38;5;241m.\u001b[39mshow()\n",
      "\u001b[1;31mTypeError\u001b[0m: student.__init__() takes 3 positional arguments but 6 were given"
     ]
    }
   ],
   "source": [
    "class student:\n",
    "    def __init__(self, name, rollno):\n",
    "        self.name = name\n",
    "        self.rollno = rollno\n",
    "    \n",
    "    def show(self):\n",
    "        print(self.name, self.rollno)\n",
    "\n",
    "s1 = student('a',1, 'hp', 'i5', 8)\n",
    "s2 = student('b', 2)\n",
    "\n",
    "s1.show()"
   ]
  },
  {
   "cell_type": "code",
   "execution_count": 43,
   "id": "8d356f07-aa72-4f0a-87f2-60cd71892b9c",
   "metadata": {},
   "outputs": [
    {
     "name": "stdout",
     "output_type": "stream",
     "text": [
      "a 1 hp i7 16\n",
      "b 2 lenovo i5 8\n"
     ]
    }
   ],
   "source": [
    "class student:\n",
    "    def __init__(self, name, rollno, laptop, cpu, ram):\n",
    "        self.name = name\n",
    "        self.rollno = rollno\n",
    "        self.laptop = laptop\n",
    "        self.cpu = cpu\n",
    "        self.ram = ram\n",
    "    \n",
    "    def show(self):\n",
    "        print(s1.name, s1.rollno, s1.laptop, s1.cpu, s1.ram)\n",
    "        print(s2.name, s2.rollno, s2.laptop, s2.cpu, s2.ram)\n",
    "\n",
    "s1 = student('a',1, 'hp', 'i7', 16)\n",
    "s2 = student('b', 2, 'lenovo', 'i5', 8)\n",
    "\n",
    "s1.show()"
   ]
  },
  {
   "cell_type": "code",
   "execution_count": 44,
   "id": "306f60a2-7e70-430d-be0a-d24152fa3adc",
   "metadata": {},
   "outputs": [
    {
     "name": "stdout",
     "output_type": "stream",
     "text": [
      "a 1\n",
      "b 2\n"
     ]
    }
   ],
   "source": [
    "# inner class\n",
    "\n",
    "class student:\n",
    "    def __init__(self, name, rollno):\n",
    "        self.name = name\n",
    "        self.rollno = rollno\n",
    "    \n",
    "    def show(self):\n",
    "        print(self.name, self.rollno)\n",
    "    \n",
    "    class LAPTOP:\n",
    "        def _init__(self):\n",
    "            self.brand = 'hp'\n",
    "            self.cpu = 'i5'\n",
    "            self.ram = 8\n",
    "\n",
    "s1 = student('a',1)\n",
    "s2 = student('b',2)\n",
    "\n",
    "s1.show()\n",
    "s2.show()"
   ]
  },
  {
   "cell_type": "code",
   "execution_count": null,
   "id": "fff06048-abe1-4a67-ae83-f93e82fa13e7",
   "metadata": {},
   "outputs": [],
   "source": [
    "# user should not create object of inner class"
   ]
  },
  {
   "cell_type": "code",
   "execution_count": 49,
   "id": "107f00a0-4537-48a1-b4da-ae205f9131a1",
   "metadata": {},
   "outputs": [
    {
     "name": "stdout",
     "output_type": "stream",
     "text": [
      "a 1\n",
      "b 2\n",
      "i5\n",
      "8\n",
      "hp\n"
     ]
    }
   ],
   "source": [
    "# inner class\n",
    "\n",
    "class student:\n",
    "    def __init__(self, name, rollno):\n",
    "        self.name = name\n",
    "        self.rollno = rollno\n",
    "        self.lap = self.LAPTOP()  # inner class object\n",
    "    \n",
    "    def show(self):\n",
    "        print(self.name, self.rollno)\n",
    "    \n",
    "    class LAPTOP:\n",
    "        def __init__(self):   # <-- fixed here (double underscores)\n",
    "            self.brand = 'hp'\n",
    "            self.cpu = 'i5'\n",
    "            self.ram = 8\n",
    "\n",
    "\n",
    "s1 = student('a', 1)\n",
    "s2 = student('b', 2)\n",
    "\n",
    "s1.show()\n",
    "s2.show()\n",
    "\n",
    "lap1 = s1.lap.cpu\n",
    "lap2 = s2.lap.ram\n",
    "lap3 = s2.lap.brand\n",
    "\n",
    "print(lap1)  \n",
    "print(lap2)\n",
    "print(lap3)\n"
   ]
  },
  {
   "cell_type": "code",
   "execution_count": null,
   "id": "9f018652-477a-4948-9568-4ef1269f3c30",
   "metadata": {},
   "outputs": [],
   "source": [
    "# how to create object of inner class\n",
    "# outside of inn class and inside of outer class then code will run"
   ]
  },
  {
   "cell_type": "markdown",
   "id": "b1ef7a17-981a-45f5-b996-998655f21303",
   "metadata": {},
   "source": [
    "# Day - 93 (11th aug 2025)"
   ]
  },
  {
   "cell_type": "code",
   "execution_count": null,
   "id": "0f068d95-a9bd-4c80-bf0f-834efa7941fd",
   "metadata": {},
   "outputs": [],
   "source": [
    "# Previous class recap\n",
    "\n",
    "constructor (__init__)\n",
    "self --> pointer which refering to the object\n",
    "encapsulation --> object part\n",
    "variables & methods\n",
    "variable -> instance variable, class variable == static variable\n",
    "instance variable -- define inside __init__\n",
    "class variable -- define outside of __init__\n",
    "\n",
    "methods --> \n",
    "instance method -- access instance variable\n",
    "class method -- access class variable\n",
    "static method -- dosenot access any variable \n",
    "\n",
    "class method (cls) as an argument along with @classmethod\n",
    "static method also need to assign with @staticmethod\n",
    "\n",
    "inner class = class inside the class\n",
    "can we create object of inner class\n",
    "yes (inside of outer class & outside of inner class(self.classname = innerclass()))"
   ]
  },
  {
   "cell_type": "markdown",
   "id": "c677d083-8750-4ea5-acaf-ff7c438efde2",
   "metadata": {},
   "source": [
    "# INHERITANCE"
   ]
  },
  {
   "cell_type": "code",
   "execution_count": null,
   "id": "7cca2352-1f04-470f-8017-b8e0d93b29bb",
   "metadata": {},
   "outputs": [],
   "source": [
    "alaways works with 2 class\n",
    "\n",
    "1. parent class = super class\n",
    "2. child class = sub class\n",
    "\n"
   ]
  },
  {
   "cell_type": "code",
   "execution_count": 1,
   "id": "2cff805d-4c17-4964-830c-ed3d1da4db4e",
   "metadata": {},
   "outputs": [
    {
     "name": "stdout",
     "output_type": "stream",
     "text": [
      "feature1 is hi\n",
      "feature2 is hi\n"
     ]
    }
   ],
   "source": [
    "class A():\n",
    "    def feature1(self):\n",
    "        print('feature1 is hi')\n",
    "    def feature2(self):\n",
    "        print('feature2 is hi')\n",
    "\n",
    "a1 = A()\n",
    "\n",
    "a1.feature1()\n",
    "a1.feature2()"
   ]
  },
  {
   "cell_type": "code",
   "execution_count": null,
   "id": "783811e5-c847-4bd6-a59b-fc40774b8ad8",
   "metadata": {},
   "outputs": [],
   "source": [
    "class A():\n",
    "    def feature1(self):\n",
    "        print('feature1 is hi')\n",
    "    def feature2(self):\n",
    "        print('feature2 is hi')\n",
    "\n",
    "class B():\n",
    "    def feature3(self):\n",
    "        print('feature1 is hello')\n",
    "    def feature4(self):\n",
    "        print('feature2 is hello')\n",
    "\n",
    "a1 = A()\n",
    "b1 = B()\n",
    "\n",
    "a1.\n",
    "b1."
   ]
  },
  {
   "cell_type": "code",
   "execution_count": null,
   "id": "cafc422f-51eb-4989-8b2e-8691e56f8e5b",
   "metadata": {},
   "outputs": [],
   "source": [
    "# single level inheritance\n",
    "class A():\n",
    "    def feature1(self):\n",
    "        print('feature1 is hi')\n",
    "    def feature2(self):\n",
    "        print('feature2 is hi')\n",
    "\n",
    "class B(A):\n",
    "    def feature3(self):\n",
    "        print('feature1 is hello')\n",
    "    def feature4(self):\n",
    "        print('feature2 is hello')\n",
    "\n",
    "a1 = A()\n",
    "b1 = B()\n",
    "\n",
    "a1.  #tab\n",
    "b1.  #tab"
   ]
  },
  {
   "cell_type": "code",
   "execution_count": null,
   "id": "3501b7f4-ca72-4dbe-9ba8-5f56d00649d5",
   "metadata": {},
   "outputs": [],
   "source": [
    "single level inhetinace -- work with 1 parent class and 1 child class\n"
   ]
  },
  {
   "cell_type": "code",
   "execution_count": 2,
   "id": "7d91b129-5ab1-4a33-8856-ee6905c2da44",
   "metadata": {},
   "outputs": [
    {
     "name": "stdout",
     "output_type": "stream",
     "text": [
      "feature1 is hi\n",
      "feature2 is hi\n",
      "feature1 is hello\n",
      "feature2 is hello\n",
      "feature1 is hi\n",
      "feature2 is hi\n",
      "feature5 is how are you\n"
     ]
    }
   ],
   "source": [
    "# multi level inheritance\n",
    "\n",
    "class A():\n",
    "    def feature1(self):\n",
    "        print('feature1 is hi')\n",
    "    def feature2(self):\n",
    "        print('feature2 is hi')\n",
    "\n",
    "class B():\n",
    "    def feature3(self):\n",
    "        print('feature1 is hello')\n",
    "    def feature4(self):\n",
    "        print('feature2 is hello')\n",
    "\n",
    "class C(A):\n",
    "    def feature5(Self):\n",
    "        print('feature5 is how are you')\n",
    "\n",
    "a1 = A()\n",
    "b1 = B()\n",
    "c1 = C()\n",
    "\n",
    "a1.feature1()\n",
    "a1.feature2()\n",
    "\n",
    "b1.feature3()\n",
    "b1.feature4()\n",
    "\n",
    "c1.feature1()\n",
    "c1.feature2()\n",
    "c1.feature5()"
   ]
  },
  {
   "cell_type": "code",
   "execution_count": null,
   "id": "1f55b4cf-349c-48f8-b431-6d5df5f532a0",
   "metadata": {},
   "outputs": [],
   "source": [
    "multilevel inheritance --> works with 1 parent class and more than 1 child class"
   ]
  },
  {
   "cell_type": "code",
   "execution_count": null,
   "id": "62e3ec93-9f48-4e9f-a0a7-ea6fce68f330",
   "metadata": {},
   "outputs": [],
   "source": [
    "# Multiple inheritance\n",
    "\n",
    "class A():\n",
    "    def feature1(self):\n",
    "        print('feature1 is hi')\n",
    "    def feature2(self):\n",
    "        print('feature2 is hi')\n",
    "\n",
    "class B():\n",
    "    def feature3(self):\n",
    "        print('feature1 is hello')\n",
    "    def feature4(self):\n",
    "        print('feature2 is hello')\n",
    "\n",
    "class C(A,B):\n",
    "    def feature5(Self):\n",
    "        print('feature5 is how are you')\n",
    "\n",
    "a1 = A()\n",
    "b1 = B()\n",
    "c1 = C()\n",
    "\n"
   ]
  },
  {
   "cell_type": "code",
   "execution_count": null,
   "id": "5678cdb0-aaa9-4a1b-9313-d217add2344e",
   "metadata": {},
   "outputs": [],
   "source": [
    "multiple inheritance --> In 1 class we can inherit more than 2 class"
   ]
  },
  {
   "cell_type": "code",
   "execution_count": null,
   "id": "1f2fd8c8-6fbd-4826-8dea-ba70efb69d4e",
   "metadata": {},
   "outputs": [],
   "source": [
    "multilevel + multiple  == hybird inheritance"
   ]
  },
  {
   "cell_type": "markdown",
   "id": "7c5df8ec-c7b3-48f4-b745-29d21b53b580",
   "metadata": {},
   "source": [
    "# Constructor in Inheritance (__init__)"
   ]
  },
  {
   "cell_type": "code",
   "execution_count": 6,
   "id": "1d9fbb9d-553b-49e3-93c7-4812ad028d0d",
   "metadata": {},
   "outputs": [
    {
     "name": "stdout",
     "output_type": "stream",
     "text": [
      "in A init\n",
      "in A init\n"
     ]
    }
   ],
   "source": [
    "class A():\n",
    "    def __init__(self):\n",
    "        print('in A init')\n",
    "    def feature1(self):\n",
    "        print('feature1 is hi')\n",
    "    def feature2(self):\n",
    "        print('feature2 is hi')\n",
    "\n",
    "class B(A):\n",
    "    def feature3(self):\n",
    "        print('feature3 is hello')\n",
    "    def feature4(self):\n",
    "        print('feature4 is hello')\n",
    "\n",
    "a1 = A()\n",
    "b1 = B()"
   ]
  },
  {
   "cell_type": "code",
   "execution_count": 7,
   "id": "2eeeecd9-3fec-46c2-91d5-dc773d7113e4",
   "metadata": {},
   "outputs": [
    {
     "name": "stdout",
     "output_type": "stream",
     "text": [
      "in A init\n"
     ]
    }
   ],
   "source": [
    "class A():\n",
    "    def __init__(self):\n",
    "        print('in A init')\n",
    "    def feature1(self):\n",
    "        print('feature1 is hi')\n",
    "    def feature2(self):\n",
    "        print('feature2 is hi')\n",
    "\n",
    "class B(A):\n",
    "    def feature3(self):\n",
    "        print('feature3 is hello')\n",
    "    def feature4(self):\n",
    "        print('feature4 is hello')\n",
    "\n",
    "a1 = B()"
   ]
  },
  {
   "cell_type": "code",
   "execution_count": 9,
   "id": "1cb3c2ab-6844-4d9e-bee3-8b127f41a47d",
   "metadata": {},
   "outputs": [
    {
     "name": "stdout",
     "output_type": "stream",
     "text": [
      "in A init\n",
      "in B init\n"
     ]
    }
   ],
   "source": [
    "class A():\n",
    "    def __init__(self):\n",
    "        print('in A init')\n",
    "    def feature1(self):\n",
    "        print('feature1 is hi')\n",
    "    def feature2(self):\n",
    "        print('feature2 is hi')\n",
    "\n",
    "class B():\n",
    "    def __init__(self):\n",
    "        print('in B init')\n",
    "    def feature3(self):\n",
    "        print('feature3 is hello')\n",
    "    def feature4(self):\n",
    "        print('feature4 is hello')\n",
    "\n",
    "a1 = A()\n",
    "b1 = B()"
   ]
  },
  {
   "cell_type": "code",
   "execution_count": 10,
   "id": "878446e1-e0cb-4c9c-9c26-87ed663d393e",
   "metadata": {},
   "outputs": [
    {
     "name": "stdout",
     "output_type": "stream",
     "text": [
      "in A init\n",
      "in B init\n"
     ]
    }
   ],
   "source": [
    "class A():\n",
    "    def __init__(self):\n",
    "        print('in A init')\n",
    "    def feature1(self):\n",
    "        print('feature1 is hi')\n",
    "    def feature2(self):\n",
    "        print('feature2 is hi')\n",
    "\n",
    "class B(A):\n",
    "    def __init__(self):\n",
    "        print('in B init')\n",
    "    def feature3(self):\n",
    "        print('feature3 is hello')\n",
    "    def feature4(self):\n",
    "        print('feature4 is hello')\n",
    "\n",
    "a1 = A()\n",
    "b1 = B()"
   ]
  },
  {
   "cell_type": "code",
   "execution_count": 11,
   "id": "4f3724c3-0cf6-4273-a5be-783c0cdc598b",
   "metadata": {},
   "outputs": [
    {
     "name": "stdout",
     "output_type": "stream",
     "text": [
      "in B init\n"
     ]
    }
   ],
   "source": [
    "class A():                       # super class\n",
    "    def __init__(self):\n",
    "        print('in A init')\n",
    "    def feature1(self):\n",
    "        print('feature1 is hi')\n",
    "    def feature2(self):\n",
    "        print('feature2 is hi')\n",
    "\n",
    "class B(A):                        #subclass\n",
    "    def __init__(self):\n",
    "        print('in B init')\n",
    "    def feature3(self):\n",
    "        print('feature3 is hello')\n",
    "    def feature4(self):\n",
    "        print('feature4 is hello')\n",
    "\n",
    "b1 = B()"
   ]
  },
  {
   "cell_type": "code",
   "execution_count": 12,
   "id": "8948f546-0a6f-46f7-a4b4-5f195407f46a",
   "metadata": {},
   "outputs": [
    {
     "name": "stdout",
     "output_type": "stream",
     "text": [
      "in A init\n",
      "in B init\n"
     ]
    }
   ],
   "source": [
    "class A():                       # super class\n",
    "    def __init__(self):\n",
    "        print('in A init')\n",
    "    def feature1(self):\n",
    "        print('feature1 is hi')\n",
    "    def feature2(self):\n",
    "        print('feature2 is hi')\n",
    "\n",
    "class B(A):                        #subclass\n",
    "    def __init__(self):\n",
    "        super().__init__()   # when we pass super() == print parent class information as well\n",
    "        print('in B init')\n",
    "    def feature3(self):\n",
    "        print('feature3 is hello')\n",
    "    def feature4(self):\n",
    "        print('feature4 is hello')\n",
    "\n",
    "b1 = B()"
   ]
  },
  {
   "cell_type": "code",
   "execution_count": null,
   "id": "7f5a4415-5ccf-4c1f-97b3-d414dfe6bc57",
   "metadata": {},
   "outputs": [],
   "source": [
    "# IQ\n",
    "# where to use super() and why to use\n",
    "\n",
    "# when you create object of subclass it will call init of sub class first\n",
    "\n",
    "# if you have call super then it will first call init of super then call init of subclass"
   ]
  },
  {
   "cell_type": "code",
   "execution_count": null,
   "id": "154eb856-b4ba-4675-8be8-5379b47bb9d7",
   "metadata": {},
   "outputs": [],
   "source": [
    "# to represent super class we use super method"
   ]
  },
  {
   "cell_type": "markdown",
   "id": "3055a453-6f06-444a-ba93-fbac860dd420",
   "metadata": {},
   "source": [
    "# POLYMOEPHISIM"
   ]
  },
  {
   "cell_type": "code",
   "execution_count": null,
   "id": "decbdeb7-1eba-4b1e-8274-8d8871f850c5",
   "metadata": {},
   "outputs": [],
   "source": [
    "Poly + morph = many form"
   ]
  },
  {
   "cell_type": "code",
   "execution_count": null,
   "id": "c6c562a2-4465-4185-a40c-dda1cecd3213",
   "metadata": {},
   "outputs": [],
   "source": [
    "4 types of polymorphisim\n",
    "\n",
    "1. duck typing\n",
    "2. operator overloading\n",
    "3. method overloading\n",
    "4. method overriding"
   ]
  },
  {
   "cell_type": "code",
   "execution_count": 13,
   "id": "35e88e8e-fea6-4d9e-b1e6-f4e88f7eb6c1",
   "metadata": {},
   "outputs": [
    {
     "name": "stdout",
     "output_type": "stream",
     "text": [
      "30.25\n",
      "25\n"
     ]
    }
   ],
   "source": [
    "def square(x):\n",
    "    return x * x\n",
    "\n",
    "print(square(5.5))\n",
    "print(square(5))"
   ]
  },
  {
   "cell_type": "code",
   "execution_count": 14,
   "id": "7f292940-7702-4437-a4c1-8e4571c440e3",
   "metadata": {},
   "outputs": [
    {
     "name": "stdout",
     "output_type": "stream",
     "text": [
      "i am duck & i can swim\n",
      "quack quack\n"
     ]
    }
   ],
   "source": [
    "class duck:\n",
    "    def swim(self):\n",
    "        print('i am duck & i can swim')\n",
    "    def speaks(self):\n",
    "        print('quack quack')\n",
    "\n",
    "class dog:\n",
    "    def swim(self):\n",
    "        print('i am dog & i can swim')\n",
    "    def speaks(self):\n",
    "        print('woof woof')\n",
    "\n",
    "def display(duck):\n",
    "    duck.swim()\n",
    "    duck.speaks()\n",
    "\n",
    "d = duck()\n",
    "display(d)"
   ]
  },
  {
   "cell_type": "code",
   "execution_count": null,
   "id": "4fc5d18d-f4c6-40c2-805c-eab1a2d6f8ed",
   "metadata": {},
   "outputs": [],
   "source": [
    "# In duck typing\n",
    "\n",
    "1. class name differnt\n",
    "2. method name should same\n",
    "3. def function outside of the class\n",
    "4. function must should call the class "
   ]
  },
  {
   "cell_type": "code",
   "execution_count": 29,
   "id": "57b530c7-a40f-4a67-b8df-809581f62350",
   "metadata": {},
   "outputs": [
    {
     "name": "stdout",
     "output_type": "stream",
     "text": [
      "i am duck & i can swim\n",
      "quack quack\n",
      "i am dog & i can swim\n",
      "woof woof\n",
      "attend more interview to get placed\n"
     ]
    }
   ],
   "source": [
    "class duck:\n",
    "    def swim(self):\n",
    "        print('i am duck & i can swim')\n",
    "    def speaks(self):\n",
    "        print('quack quack')\n",
    "\n",
    "class dog:\n",
    "    def swim(self):\n",
    "        print('i am dog & i can swim')\n",
    "    def speaks(self):\n",
    "        print('woof woof')\n",
    "\n",
    "class person:\n",
    "    def speaks(self):\n",
    "        print('attend more interview to get placed')\n",
    "\n",
    "def display(obj):\n",
    "    # Just call what the object actually supports\n",
    "    if hasattr(obj, \"swim\"):\n",
    "        obj.swim()\n",
    "    if hasattr(obj, \"speaks\"):\n",
    "        obj.speaks()\n",
    "\n",
    "d = duck()\n",
    "dg = dog()\n",
    "p = person()\n",
    "\n",
    "display(d)   # duck\n",
    "display(dg)  # dog\n",
    "display(p)   # person\n"
   ]
  },
  {
   "cell_type": "code",
   "execution_count": 21,
   "id": "054712ef-72ad-47b2-9588-d7221c56c81e",
   "metadata": {},
   "outputs": [
    {
     "ename": "TypeError",
     "evalue": "duck.swim() missing 1 required positional argument: 'self'",
     "output_type": "error",
     "traceback": [
      "\u001b[1;31m---------------------------------------------------------------------------\u001b[0m",
      "\u001b[1;31mTypeError\u001b[0m                                 Traceback (most recent call last)",
      "Cell \u001b[1;32mIn[21], line 28\u001b[0m\n\u001b[0;32m     25\u001b[0m dg \u001b[38;5;241m=\u001b[39m dog()\n\u001b[0;32m     26\u001b[0m p \u001b[38;5;241m=\u001b[39m person()\n\u001b[1;32m---> 28\u001b[0m display(p)\n",
      "Cell \u001b[1;32mIn[21], line 20\u001b[0m, in \u001b[0;36mdisplay\u001b[1;34m(obj)\u001b[0m\n\u001b[0;32m     19\u001b[0m \u001b[38;5;28;01mdef\u001b[39;00m \u001b[38;5;21mdisplay\u001b[39m(obj):\n\u001b[1;32m---> 20\u001b[0m     duck\u001b[38;5;241m.\u001b[39mswim()\n\u001b[0;32m     21\u001b[0m     duck\u001b[38;5;241m.\u001b[39mspeaks()\n\u001b[0;32m     22\u001b[0m     obj\u001b[38;5;241m.\u001b[39mperson()\n",
      "\u001b[1;31mTypeError\u001b[0m: duck.swim() missing 1 required positional argument: 'self'"
     ]
    }
   ],
   "source": [
    "class duck:\n",
    "    def swim(self):\n",
    "        print('i am duck & i can swim')\n",
    "    def speaks(self):\n",
    "        print('quack quack')\n",
    "\n",
    "class dog:\n",
    "    def swim(self):\n",
    "        print('i am dog & i can swim')\n",
    "    def speaks(self):\n",
    "        print('woof woof')\n",
    "\n",
    "class person:\n",
    "    def swim(self):\n",
    "        print('need to learn for swim')\n",
    "    def speaks(self):\n",
    "        print('attend more interview to get placed')\n",
    "\n",
    "def display(obj):\n",
    "    duck.swim()\n",
    "    duck.speaks()\n",
    "    obj.person()\n",
    "\n",
    "d = duck()\n",
    "dg = dog()\n",
    "p = person()\n",
    "\n",
    "display(p)"
   ]
  },
  {
   "cell_type": "code",
   "execution_count": 20,
   "id": "506b9007-5323-4b60-aff8-b4fc1bc13564",
   "metadata": {},
   "outputs": [
    {
     "name": "stdout",
     "output_type": "stream",
     "text": [
      "woof!\n",
      "Meow!\n",
      "Quack!\n"
     ]
    }
   ],
   "source": [
    "class Dog:\n",
    "    def speak(self):\n",
    "        return \"woof!\"\n",
    "\n",
    "class Cat:\n",
    "    def speak(self):\n",
    "        return \"Meow!\"\n",
    "\n",
    "class Duck:\n",
    "    def speak(self):\n",
    "        return \"Quack!\"\n",
    "\n",
    "def animal_sound(animal):\n",
    "    return animal.speak()\n",
    "\n",
    "dog = Dog()\n",
    "cat = Cat()\n",
    "duck = Duck()\n",
    "\n",
    "print(animal_sound(dog))\n",
    "print(animal_sound(cat))\n",
    "print(animal_sound(duck))"
   ]
  },
  {
   "cell_type": "markdown",
   "id": "1d366ece-a8fa-4f6a-9e7b-047a6c6684af",
   "metadata": {},
   "source": [
    "# Operator overloading"
   ]
  },
  {
   "cell_type": "code",
   "execution_count": 22,
   "id": "d5de5803-6191-4890-b519-ed526efc4af9",
   "metadata": {},
   "outputs": [
    {
     "name": "stdout",
     "output_type": "stream",
     "text": [
      "<class 'int'>\n",
      "11\n"
     ]
    }
   ],
   "source": [
    "a, b = 5, 6 \n",
    "\n",
    "print(type(a))\n",
    "print(a+b)"
   ]
  },
  {
   "cell_type": "code",
   "execution_count": 23,
   "id": "04caf4d8-ca52-41e0-beb8-d533a5b25346",
   "metadata": {},
   "outputs": [
    {
     "data": {
      "text/plain": [
       "11"
      ]
     },
     "execution_count": 23,
     "metadata": {},
     "output_type": "execute_result"
    }
   ],
   "source": [
    "int.__add__(5,6)"
   ]
  },
  {
   "cell_type": "code",
   "execution_count": 24,
   "id": "95dc8a4e-76c2-4f73-a2d2-698a7b5077ec",
   "metadata": {},
   "outputs": [
    {
     "data": {
      "text/plain": [
       "-1"
      ]
     },
     "execution_count": 24,
     "metadata": {},
     "output_type": "execute_result"
    }
   ],
   "source": [
    "int.__sub__(4,5)"
   ]
  },
  {
   "cell_type": "code",
   "execution_count": 25,
   "id": "4d4eea5f-306a-4601-87e5-0e39474f5ba1",
   "metadata": {},
   "outputs": [
    {
     "data": {
      "text/plain": [
       "20"
      ]
     },
     "execution_count": 25,
     "metadata": {},
     "output_type": "execute_result"
    }
   ],
   "source": [
    "int.__mul__(4,5)"
   ]
  },
  {
   "cell_type": "code",
   "execution_count": null,
   "id": "8895f2fc-4b0f-4142-9da9-fcf328aa479e",
   "metadata": {},
   "outputs": [],
   "source": [
    "magic methods (+,-,*,/,<,>,>=,<=)\n",
    "__add__(values put)\n",
    "__sub__\n",
    "__mul__\n",
    "__div__\n",
    "__lt__\n",
    "__gt__\n",
    "__ge__"
   ]
  },
  {
   "cell_type": "code",
   "execution_count": 26,
   "id": "a0387950-9807-4438-8502-3c0c3b1d6552",
   "metadata": {},
   "outputs": [
    {
     "ename": "TypeError",
     "evalue": "unsupported operand type(s) for +: 'student' and 'student'",
     "output_type": "error",
     "traceback": [
      "\u001b[1;31m---------------------------------------------------------------------------\u001b[0m",
      "\u001b[1;31mTypeError\u001b[0m                                 Traceback (most recent call last)",
      "Cell \u001b[1;32mIn[26], line 9\u001b[0m\n\u001b[0;32m      6\u001b[0m s1 \u001b[38;5;241m=\u001b[39m student(\u001b[38;5;241m60\u001b[39m,\u001b[38;5;241m70\u001b[39m)\n\u001b[0;32m      7\u001b[0m s2 \u001b[38;5;241m=\u001b[39m student(\u001b[38;5;241m80\u001b[39m,\u001b[38;5;241m90\u001b[39m)\n\u001b[1;32m----> 9\u001b[0m s3 \u001b[38;5;241m=\u001b[39m s1 \u001b[38;5;241m+\u001b[39m s2\n",
      "\u001b[1;31mTypeError\u001b[0m: unsupported operand type(s) for +: 'student' and 'student'"
     ]
    }
   ],
   "source": [
    "class student:\n",
    "    def __init__(self, m1, m2):\n",
    "        self.m1 = m1\n",
    "        self.m2 = m2\n",
    "\n",
    "s1 = student(60,70)\n",
    "s2 = student(80,90)\n",
    "\n",
    "s3 = s1 + s2"
   ]
  },
  {
   "cell_type": "code",
   "execution_count": 28,
   "id": "1d0a6f26-00fd-40ed-8f8e-a6eae6ee4f46",
   "metadata": {},
   "outputs": [
    {
     "name": "stdout",
     "output_type": "stream",
     "text": [
      "140\n",
      "160\n"
     ]
    }
   ],
   "source": [
    "class student:\n",
    "    def __init__(self, m1, m2):\n",
    "        self.m1 = m1\n",
    "        self.m2 = m2\n",
    "    \n",
    "    def __add__(self, other):  # we define the add method this concept is called method overloading\n",
    "        m1 = self.m1 + other.m1\n",
    "        m2 = self.m2 + other.m2\n",
    "        s3 = student(m1,m2)\n",
    "        \n",
    "        return s3\n",
    "\n",
    "s1 = student(60,70)\n",
    "s2 = student(80,90)\n",
    "\n",
    "s3 = s1 + s2\n",
    "\n",
    "print(s3.m1)\n",
    "print(s3.m2)\n"
   ]
  },
  {
   "cell_type": "code",
   "execution_count": null,
   "id": "7282dcbe-ac75-478c-9b2e-85bcace442d0",
   "metadata": {},
   "outputs": [],
   "source": [
    "always remember\n",
    "user defined method\n",
    "special method\n",
    "instance method\n",
    "class method\n",
    "static method\n",
    "magic method\n",
    "abstract method"
   ]
  },
  {
   "cell_type": "markdown",
   "id": "85d50ecf-a7fb-4eed-98e3-99b5593639dc",
   "metadata": {},
   "source": [
    "# Day - 94 (12th aug 2025)"
   ]
  },
  {
   "cell_type": "code",
   "execution_count": null,
   "id": "7039db77-9624-48a2-80fc-c203e8ffd8e8",
   "metadata": {},
   "outputs": [],
   "source": [
    "Previous class recap:\n",
    "\n",
    "inheritance completed\n",
    "single level inheritance -- 1 parent class & 1 child class\n",
    "multi level inheritance -- 1 parent class > 1 child class\n",
    "miltiple inheritance -- 1 child class we inherite more than 2 class\n",
    "multilevel + multiple == hybrid inheritance\n",
    "\n",
    "constructor in inheritance \n",
    "yes it can inherit\n",
    "if we create constructor in all the class make sure object will always call child class \n",
    "information only\n",
    "if we call parent class then we must need to assign super()\n",
    "\n",
    "polymorphisim - one feature has multiple forms\n",
    "duck typing - different class but same method\n",
    "define function outside of the class\n",
    "operator overloading  -- __add___, __sub__, etc -- magic method"
   ]
  },
  {
   "cell_type": "markdown",
   "id": "5504b331-151a-4525-9b01-3e7d6b2983b2",
   "metadata": {},
   "source": [
    "# Method Overloading"
   ]
  },
  {
   "cell_type": "code",
   "execution_count": 31,
   "id": "5bda4ab5-bb7d-4a96-bd2f-18a601cf4590",
   "metadata": {},
   "outputs": [
    {
     "name": "stdout",
     "output_type": "stream",
     "text": [
      "5\n"
     ]
    }
   ],
   "source": [
    "class demo:\n",
    "    def add(self, a, b):\n",
    "        return a+b\n",
    "    \n",
    "\n",
    "d = demo()\n",
    "print(d.add(2,3))"
   ]
  },
  {
   "cell_type": "code",
   "execution_count": 32,
   "id": "5c92228e-558d-4fe9-a9b0-597d83fdc795",
   "metadata": {},
   "outputs": [
    {
     "ename": "TypeError",
     "evalue": "demo.add() missing 1 required positional argument: 'c'",
     "output_type": "error",
     "traceback": [
      "\u001b[1;31m---------------------------------------------------------------------------\u001b[0m",
      "\u001b[1;31mTypeError\u001b[0m                                 Traceback (most recent call last)",
      "Cell \u001b[1;32mIn[32], line 11\u001b[0m\n\u001b[0;32m      7\u001b[0m         \u001b[38;5;28;01mreturn\u001b[39;00m a\u001b[38;5;241m+\u001b[39mb\u001b[38;5;241m+\u001b[39mc\n\u001b[0;32m      9\u001b[0m d \u001b[38;5;241m=\u001b[39m demo()\n\u001b[1;32m---> 11\u001b[0m \u001b[38;5;28mprint\u001b[39m(d\u001b[38;5;241m.\u001b[39madd(\u001b[38;5;241m2\u001b[39m,\u001b[38;5;241m3\u001b[39m))\n\u001b[0;32m     12\u001b[0m \u001b[38;5;28mprint\u001b[39m(d\u001b[38;5;241m.\u001b[39madd(\u001b[38;5;241m4\u001b[39m,\u001b[38;5;241m5\u001b[39m,\u001b[38;5;241m6\u001b[39m))\n",
      "\u001b[1;31mTypeError\u001b[0m: demo.add() missing 1 required positional argument: 'c'"
     ]
    }
   ],
   "source": [
    "class demo:\n",
    "    \n",
    "    def add(self, a, b):\n",
    "        return a+b\n",
    "    \n",
    "    def add(self,a,b,c):\n",
    "        return a+b+c\n",
    "\n",
    "d = demo()\n",
    "\n",
    "print(d.add(2,3))\n",
    "print(d.add(4,5,6))\n",
    "    "
   ]
  },
  {
   "cell_type": "code",
   "execution_count": 34,
   "id": "c6db3d58-d7c4-43a5-925b-ce7db9d8a232",
   "metadata": {},
   "outputs": [
    {
     "name": "stdout",
     "output_type": "stream",
     "text": [
      "5\n",
      "15\n",
      "22\n"
     ]
    }
   ],
   "source": [
    "class demo:\n",
    "    \n",
    "    def add(Self,a,b,c = 0, d = 0):\n",
    "        return a+b+c+d\n",
    "\n",
    "d = demo()\n",
    "\n",
    "print(d.add(2,3))\n",
    "print(d.add(4,5,6))\n",
    "print(d.add(4,5,6,7))"
   ]
  },
  {
   "cell_type": "code",
   "execution_count": 35,
   "id": "edf8e824-c85c-4986-a96e-0f00f571a637",
   "metadata": {},
   "outputs": [
    {
     "name": "stdout",
     "output_type": "stream",
     "text": [
      "5\n",
      "15\n",
      "22\n"
     ]
    }
   ],
   "source": [
    "class demo:\n",
    "    def add(self, *arg):\n",
    "        total = 0\n",
    "        for i in arg:\n",
    "            total = total + i\n",
    "        return total\n",
    "\n",
    "d = demo()\n",
    "\n",
    "print(d.add(2,3))\n",
    "print(d.add(4,5,6))\n",
    "print(d.add(4,5,6,7))"
   ]
  },
  {
   "cell_type": "code",
   "execution_count": 36,
   "id": "a5f0fb00-1744-4bdf-aeb2-1571fbc8ea29",
   "metadata": {},
   "outputs": [
    {
     "name": "stdout",
     "output_type": "stream",
     "text": [
      "30\n"
     ]
    }
   ],
   "source": [
    "class student:\n",
    "    def __init__(self, m1, m2):\n",
    "        self.m1 = m1\n",
    "        self.m2 = m2\n",
    "    def sum(self, a, b):\n",
    "        s = a+b\n",
    "        return s\n",
    "\n",
    "s1 = student(50, 60)\n",
    "\n",
    "print(s1.sum(10,20))"
   ]
  },
  {
   "cell_type": "code",
   "execution_count": 40,
   "id": "8973d24b-5841-4344-aa93-5f45930a851e",
   "metadata": {},
   "outputs": [
    {
     "name": "stdout",
     "output_type": "stream",
     "text": [
      "10\n",
      "30\n",
      "60\n",
      "40\n"
     ]
    }
   ],
   "source": [
    "class student:\n",
    "    def __init__(self, m1, m2):\n",
    "        self.m1 = m1\n",
    "        self.m2 = m2\n",
    "    def sum(self, a = None, b = None, c = None):\n",
    "        if a!=None and b != None and c!=None:\n",
    "            s = a+b+c\n",
    "        elif a!=None and b!= None:\n",
    "            s = a+b\n",
    "        elif a!= None and c!= None:\n",
    "            s = a+c\n",
    "        else:\n",
    "            s = a\n",
    "        return s\n",
    "\n",
    "s1 = student(50,60)\n",
    "\n",
    "print(s1.sum(10))\n",
    "print(s1.sum(10,20))\n",
    "print(s1.sum(10,20,30))\n",
    "print(s1.sum(10,30))\n",
    "\n",
    "\n",
    "# this is called method overloading"
   ]
  },
  {
   "cell_type": "markdown",
   "id": "0acba54d-501f-46ee-b7ae-bf79045f110c",
   "metadata": {},
   "source": [
    "# Method Overriding"
   ]
  },
  {
   "cell_type": "code",
   "execution_count": null,
   "id": "f7cd5c76-3d96-4583-aca4-429cbe7550cf",
   "metadata": {},
   "outputs": [],
   "source": [
    "# In many software projects method overriding use heavily\n",
    "# method overriding always implements i inheritance and it always work with 2 class"
   ]
  },
  {
   "cell_type": "code",
   "execution_count": 41,
   "id": "5ba80ebc-4907-4463-835f-168ab2bc11a7",
   "metadata": {},
   "outputs": [
    {
     "name": "stdout",
     "output_type": "stream",
     "text": [
      "in A show\n"
     ]
    }
   ],
   "source": [
    "class A:\n",
    "    def show(self):\n",
    "        print('in A show')\n",
    "\n",
    "s1 = A()\n",
    "s1.show()"
   ]
  },
  {
   "cell_type": "code",
   "execution_count": 42,
   "id": "1ccb5cfe-443e-4fce-980e-45f58ff73210",
   "metadata": {},
   "outputs": [
    {
     "name": "stdout",
     "output_type": "stream",
     "text": [
      "in A show\n"
     ]
    }
   ],
   "source": [
    "class A: #-------------------- parent class\n",
    "    def show(self):\n",
    "        print('in A show')\n",
    "\n",
    "class B(): # ----------------- child class\n",
    "    pass\n",
    "\n",
    "s1 = A()\n",
    "s1.show()"
   ]
  },
  {
   "cell_type": "code",
   "execution_count": 43,
   "id": "d23d85a9-691f-474e-bed3-1f303ec701f2",
   "metadata": {},
   "outputs": [
    {
     "ename": "AttributeError",
     "evalue": "'B' object has no attribute 'show'",
     "output_type": "error",
     "traceback": [
      "\u001b[1;31m---------------------------------------------------------------------------\u001b[0m",
      "\u001b[1;31mAttributeError\u001b[0m                            Traceback (most recent call last)",
      "Cell \u001b[1;32mIn[43], line 9\u001b[0m\n\u001b[0;32m      6\u001b[0m     \u001b[38;5;28;01mpass\u001b[39;00m\n\u001b[0;32m      8\u001b[0m s2 \u001b[38;5;241m=\u001b[39m B()\n\u001b[1;32m----> 9\u001b[0m s2\u001b[38;5;241m.\u001b[39mshow()\n",
      "\u001b[1;31mAttributeError\u001b[0m: 'B' object has no attribute 'show'"
     ]
    }
   ],
   "source": [
    "class A: #-------------------- parent class\n",
    "    def show(self):\n",
    "        print('in A show')\n",
    "\n",
    "class B(): # ----------------- child class\n",
    "    pass\n",
    "\n",
    "s2 = B()\n",
    "s2.show()"
   ]
  },
  {
   "cell_type": "code",
   "execution_count": 44,
   "id": "e33d0949-7e35-485f-9f21-3cbb69297ee2",
   "metadata": {},
   "outputs": [
    {
     "name": "stdout",
     "output_type": "stream",
     "text": [
      "in A show\n"
     ]
    }
   ],
   "source": [
    "class A: #-------------------- parent class\n",
    "    def show(self):\n",
    "        print('in A show')\n",
    "\n",
    "class B(A): # ----------------- child class\n",
    "    pass\n",
    "\n",
    "s2 = B()\n",
    "s2.show()"
   ]
  },
  {
   "cell_type": "code",
   "execution_count": 45,
   "id": "ec20a5d3-9a11-4572-8703-c15eb214803a",
   "metadata": {},
   "outputs": [
    {
     "name": "stdout",
     "output_type": "stream",
     "text": [
      "in B show\n"
     ]
    }
   ],
   "source": [
    "class A: #-------------------- parent class\n",
    "    def show(self):\n",
    "        print('in A show')\n",
    "\n",
    "class B(A): # ----------------- child class\n",
    "    def show(self):\n",
    "        print('in B show')\n",
    "\n",
    "s2 = B()\n",
    "s2.show()"
   ]
  },
  {
   "cell_type": "code",
   "execution_count": null,
   "id": "29e47aa6-62e7-49cc-954d-5b1c8923e9b1",
   "metadata": {},
   "outputs": [],
   "source": [
    "method overloading -- sum method overload multiple time & we can do that as well\n",
    "\n",
    "method overriding -- we will override one method to another method"
   ]
  },
  {
   "cell_type": "markdown",
   "id": "8f8b8c99-5b36-4614-a11c-8a454cd0515c",
   "metadata": {},
   "source": [
    "class, method, objects, encapsulation, inheritance, polymorphisim,\n",
    "constructor, inner class, method with arguments, method with arguments,\n",
    "self,constructor in inheritance, "
   ]
  },
  {
   "cell_type": "markdown",
   "id": "bfba6ade-640a-44e1-b700-541c7120780d",
   "metadata": {},
   "source": [
    "# ABSTRACTION"
   ]
  },
  {
   "cell_type": "code",
   "execution_count": null,
   "id": "2fb72436-93bf-4bb5-8504-594fa3a3212c",
   "metadata": {},
   "outputs": [],
   "source": [
    "two concept\n",
    "1. abstract class\n",
    "2. abstract method"
   ]
  },
  {
   "cell_type": "code",
   "execution_count": null,
   "id": "62419b7a-a984-4bd0-93ca-c1bc34fc216e",
   "metadata": {},
   "outputs": [],
   "source": [
    "by default python dont support abstract class directly\n",
    "inderictelly it support using module ABC(Abstract Base Classes) use hear to achive classes"
   ]
  },
  {
   "cell_type": "code",
   "execution_count": null,
   "id": "cbd97dc4-581f-4ea3-97c3-55270a7e6475",
   "metadata": {},
   "outputs": [],
   "source": [
    "class computer:\n",
    "    def process(self):    # declaration\n",
    "        print('running')  # defination"
   ]
  },
  {
   "cell_type": "code",
   "execution_count": null,
   "id": "0aaa913e-609c-4fd4-ba93-ccc812e77c4b",
   "metadata": {},
   "outputs": [],
   "source": [
    "class computer1:\n",
    "    def process(Self):\n",
    "        pass\n",
    "\n",
    "# this above code we have only method & we dont have body inside the method\n",
    "# this method only has declarition but not defination we called them as abstract method"
   ]
  },
  {
   "cell_type": "code",
   "execution_count": null,
   "id": "e581c82a-3b51-47c2-b9cb-3f928ffa0c1e",
   "metadata": {},
   "outputs": [],
   "source": [
    "abstract method -- class name, method name, no defination (no print statement) thats why we pass"
   ]
  },
  {
   "cell_type": "code",
   "execution_count": null,
   "id": "504294d5-9c05-40f8-8d3c-1ae0dcd7f66d",
   "metadata": {},
   "outputs": [],
   "source": [
    "the class which carry abstract method  -- anstract class"
   ]
  },
  {
   "cell_type": "code",
   "execution_count": null,
   "id": "34141eea-8f51-4a4b-8dba-a45ad2ee5d04",
   "metadata": {},
   "outputs": [],
   "source": [
    "class bike:\n",
    "    def __init__(self):\n",
    "        self.no_of_tyres = 2\n",
    "    def start(self):\n",
    "        print('start with kick')\n",
    "\n",
    "class activa:\n",
    "    def __init__(self):\n",
    "        self.no_of_tyres = 2\n",
    "    def start(self):\n",
    "        print('start with start')\n",
    "\n",
    "class car:\n",
    "    def __init__(self):\n",
    "        self.no_of_tyres = 4\n",
    "    def start(self):\n",
    "        print('start with key')\n",
    "\n",
    "# this is user defined class not a abstract class"
   ]
  },
  {
   "cell_type": "code",
   "execution_count": null,
   "id": "43a14c13-846f-4904-a135-1cff564a5bb2",
   "metadata": {},
   "outputs": [],
   "source": [
    "# Abstract method \n",
    "\n",
    "class vechile:\n",
    "    def __init__(self,n):\n",
    "        self.no_of_type_vechicle = n\n",
    "    def start(self): \n",
    "        pass\n",
    "\n",
    "# user defined method \n",
    "\n",
    "lass car:\n",
    "    def __init__(self):\n",
    "        self.no_of_tyres = 4\n",
    "    def start(self):\n",
    "        print('start with key')"
   ]
  },
  {
   "cell_type": "code",
   "execution_count": null,
   "id": "788542f0-ba3e-4a6e-a4a2-4ec8401b3b8c",
   "metadata": {},
   "outputs": [],
   "source": [
    "# Abstract class\n",
    "from abc import ABC, abstractmethod\n",
    "\n",
    "class vechile:\n",
    "    def __init__(self,n):\n",
    "        self.no_of_type_vechicle = n\n",
    "    @abstractmethod\n",
    "    def start(self):\n",
    "        pass\n",
    "\n",
    "# user defined class\n",
    "class bike:\n",
    "    def __init__(self):\n",
    "        self.no_of_tyres = 2\n",
    "    def start(self):\n",
    "        print('start with kick')\n",
    "\n",
    "class activa:\n",
    "    def __init__(self):\n",
    "        self.no_of_tyres = 2\n",
    "    def start(self):\n",
    "        print('start with start')\n",
    "\n",
    "class car:\n",
    "    def __init__(self):\n",
    "        self.no_of_tyres = 4\n",
    "    def start(self):\n",
    "        print('start with key')\n"
   ]
  },
  {
   "cell_type": "code",
   "execution_count": null,
   "id": "878eb164-9e55-41f7-9be7-0ad3a090b4ff",
   "metadata": {},
   "outputs": [],
   "source": [
    "always remmember you cannot create object for the anstract class"
   ]
  },
  {
   "cell_type": "code",
   "execution_count": 49,
   "id": "7c9ed8f6-850e-4041-a19f-3719ffc815fd",
   "metadata": {},
   "outputs": [
    {
     "ename": "TypeError",
     "evalue": "Can't instantiate abstract class vechile without an implementation for abstract method 'start'",
     "output_type": "error",
     "traceback": [
      "\u001b[1;31m---------------------------------------------------------------------------\u001b[0m",
      "\u001b[1;31mTypeError\u001b[0m                                 Traceback (most recent call last)",
      "Cell \u001b[1;32mIn[49], line 12\u001b[0m\n\u001b[0;32m      8\u001b[0m     \u001b[38;5;129m@abstractmethod\u001b[39m\n\u001b[0;32m      9\u001b[0m     \u001b[38;5;28;01mdef\u001b[39;00m \u001b[38;5;21mstart\u001b[39m(\u001b[38;5;28mself\u001b[39m):\n\u001b[0;32m     10\u001b[0m         \u001b[38;5;28;01mpass\u001b[39;00m\n\u001b[1;32m---> 12\u001b[0m v \u001b[38;5;241m=\u001b[39m vechile()\n",
      "\u001b[1;31mTypeError\u001b[0m: Can't instantiate abstract class vechile without an implementation for abstract method 'start'"
     ]
    }
   ],
   "source": [
    "# Abstract class\n",
    "from abc import ABC, abstractmethod\n",
    "\n",
    "class vechile(ABC):\n",
    "    def __init__(self,n):\n",
    "        self.no_of_type_vechicle = n\n",
    "    \n",
    "    @abstractmethod\n",
    "    def start(self):\n",
    "        pass\n",
    "\n",
    "v = vechile()  # cant create object for the abstract class"
   ]
  },
  {
   "cell_type": "code",
   "execution_count": 50,
   "id": "1a10bafa-24ad-4a71-8e18-a16537073403",
   "metadata": {},
   "outputs": [],
   "source": [
    "class computer:\n",
    "    def process(self):\n",
    "        pass\n",
    "\n",
    "com = computer()\n",
    "com.process()\n"
   ]
  },
  {
   "cell_type": "code",
   "execution_count": 51,
   "id": "e7d343fc-ea0b-4474-b931-5b40c36aa826",
   "metadata": {},
   "outputs": [
    {
     "ename": "TypeError",
     "evalue": "Can't instantiate abstract class computer without an implementation for abstract method 'process'",
     "output_type": "error",
     "traceback": [
      "\u001b[1;31m---------------------------------------------------------------------------\u001b[0m",
      "\u001b[1;31mTypeError\u001b[0m                                 Traceback (most recent call last)",
      "Cell \u001b[1;32mIn[51], line 8\u001b[0m\n\u001b[0;32m      4\u001b[0m     \u001b[38;5;129m@abstractmethod\u001b[39m\n\u001b[0;32m      5\u001b[0m     \u001b[38;5;28;01mdef\u001b[39;00m \u001b[38;5;21mprocess\u001b[39m(\u001b[38;5;28mself\u001b[39m):\n\u001b[0;32m      6\u001b[0m         \u001b[38;5;28;01mpass\u001b[39;00m\n\u001b[1;32m----> 8\u001b[0m com \u001b[38;5;241m=\u001b[39m computer()\n\u001b[0;32m      9\u001b[0m com\u001b[38;5;241m.\u001b[39mprocess()\n",
      "\u001b[1;31mTypeError\u001b[0m: Can't instantiate abstract class computer without an implementation for abstract method 'process'"
     ]
    }
   ],
   "source": [
    "from abc import ABC, abstractmethod\n",
    "\n",
    "class computer(ABC):\n",
    "    @abstractmethod\n",
    "    def process(self):\n",
    "        pass\n",
    "\n",
    "com = computer()\n",
    "com.process()"
   ]
  },
  {
   "cell_type": "code",
   "execution_count": 57,
   "id": "c9c0a3b7-f335-4b96-bee3-4fbd74b76d13",
   "metadata": {},
   "outputs": [
    {
     "ename": "TypeError",
     "evalue": "Can't instantiate abstract class Laptop without an implementation for abstract method 'process'",
     "output_type": "error",
     "traceback": [
      "\u001b[1;31m---------------------------------------------------------------------------\u001b[0m",
      "\u001b[1;31mTypeError\u001b[0m                                 Traceback (most recent call last)",
      "Cell \u001b[1;32mIn[57], line 11\u001b[0m\n\u001b[0;32m      8\u001b[0m \u001b[38;5;28;01mclass\u001b[39;00m \u001b[38;5;21;01mLaptop\u001b[39;00m(computer):  \u001b[38;5;66;03m# laptop is subclass of computer\u001b[39;00m\n\u001b[0;32m      9\u001b[0m     \u001b[38;5;28;01mpass\u001b[39;00m\n\u001b[1;32m---> 11\u001b[0m com1 \u001b[38;5;241m=\u001b[39m Laptop()\n\u001b[0;32m     12\u001b[0m com \u001b[38;5;241m=\u001b[39m cpmputer()\n\u001b[0;32m     13\u001b[0m com1\u001b[38;5;241m.\u001b[39mprocess()\n",
      "\u001b[1;31mTypeError\u001b[0m: Can't instantiate abstract class Laptop without an implementation for abstract method 'process'"
     ]
    }
   ],
   "source": [
    "from abc import ABC, abstractmethod  # need to import abstract class & abstract method\n",
    "\n",
    "class computer(ABC): # abstract class\n",
    "    @abstractmethod  # abstract method using decorator\n",
    "    def process(self):\n",
    "        pass\n",
    "\n",
    "class Laptop(computer):  # laptop is subclass of computer\n",
    "    pass\n",
    "    \n",
    "com1 = Laptop()\n",
    "com = cpmputer()\n",
    "com1.process()"
   ]
  },
  {
   "cell_type": "code",
   "execution_count": 58,
   "id": "bd0ca245-34e6-44b8-984b-f7e796fb3451",
   "metadata": {},
   "outputs": [],
   "source": [
    "from abc import ABC, abstractmethod  # need to import abstract class & abstract method\n",
    "\n",
    "class computer(ABC): # abstract class\n",
    "    @abstractmethod  # abstract method using decorator\n",
    "    def process(self):\n",
    "        pass\n",
    "\n",
    "class Laptop(computer):  # laptop is subclass of computer\n",
    "    def process(self):\n",
    "        print(\"its working\")\n",
    "    \n",
    "com1 = Laptop()\n",
    "#com = cpmputer()\n",
    "#com1.process()"
   ]
  },
  {
   "cell_type": "code",
   "execution_count": 59,
   "id": "d266b564-1d11-4205-a667-ee5d34dbf0d5",
   "metadata": {},
   "outputs": [
    {
     "name": "stdout",
     "output_type": "stream",
     "text": [
      "its working\n"
     ]
    }
   ],
   "source": [
    "from abc import ABC, abstractmethod  # need to import abstract class & abstract method\n",
    "\n",
    "class computer(ABC): # abstract class\n",
    "    @abstractmethod  # abstract method using decorator\n",
    "    def process(self):\n",
    "        pass\n",
    "\n",
    "class Laptop(computer):  # laptop is subclass of computer\n",
    "    def process(self):\n",
    "        print(\"its working\")\n",
    "    \n",
    "com1 = Laptop()\n",
    "#com = cpmputer()\n",
    "com1.process()"
   ]
  },
  {
   "cell_type": "code",
   "execution_count": null,
   "id": "5f541e20-61d9-4654-9fde-b35969a7adb7",
   "metadata": {},
   "outputs": [],
   "source": [
    "# In pythn where are use decorator\n",
    "--> abstract method, static method, class method"
   ]
  },
  {
   "cell_type": "code",
   "execution_count": null,
   "id": "4769e19b-fc0d-46b6-8771-dd5c057f8b26",
   "metadata": {},
   "outputs": [],
   "source": [
    "# ====== Oops completed ======#"
   ]
  },
  {
   "cell_type": "code",
   "execution_count": null,
   "id": "63fe1216-4d14-49d7-bd88-72d38c88e435",
   "metadata": {},
   "outputs": [],
   "source": [
    "generator, iterator, multithreading"
   ]
  },
  {
   "cell_type": "markdown",
   "id": "075871c1-a843-42c8-a359-1a8b4cbf62b5",
   "metadata": {},
   "source": [
    "# Iterator"
   ]
  },
  {
   "cell_type": "code",
   "execution_count": null,
   "id": "d4b5120e-883d-44cf-a9a9-941a0082ea4a",
   "metadata": {},
   "outputs": [],
   "source": [
    "- Iteraor means keep adding the values i++ \n",
    "- Iterator mostly used for loops"
   ]
  },
  {
   "cell_type": "code",
   "execution_count": 61,
   "id": "fc3c980c-c76b-4351-a2a4-43e757c77325",
   "metadata": {},
   "outputs": [
    {
     "name": "stdout",
     "output_type": "stream",
     "text": [
      "7\n",
      "8\n",
      "9\n"
     ]
    },
    {
     "ename": "IndexError",
     "evalue": "list index out of range",
     "output_type": "error",
     "traceback": [
      "\u001b[1;31m---------------------------------------------------------------------------\u001b[0m",
      "\u001b[1;31mIndexError\u001b[0m                                Traceback (most recent call last)",
      "Cell \u001b[1;32mIn[61], line 6\u001b[0m\n\u001b[0;32m      4\u001b[0m \u001b[38;5;28mprint\u001b[39m(nums[\u001b[38;5;241m1\u001b[39m])\n\u001b[0;32m      5\u001b[0m \u001b[38;5;28mprint\u001b[39m(nums[\u001b[38;5;241m2\u001b[39m])\n\u001b[1;32m----> 6\u001b[0m \u001b[38;5;28mprint\u001b[39m(nums[\u001b[38;5;241m3\u001b[39m])\n\u001b[0;32m      7\u001b[0m \u001b[38;5;28mprint\u001b[39m(nums[\u001b[38;5;241m4\u001b[39m])\n",
      "\u001b[1;31mIndexError\u001b[0m: list index out of range"
     ]
    }
   ],
   "source": [
    "nums = [7,8,9]\n",
    "\n",
    "print(nums[0])\n",
    "print(nums[1])\n",
    "print(nums[2])\n",
    "print(nums[3])\n",
    "print(nums[4])"
   ]
  },
  {
   "cell_type": "code",
   "execution_count": 62,
   "id": "705079ad-2394-4507-be95-c42f9075a17e",
   "metadata": {},
   "outputs": [
    {
     "name": "stdout",
     "output_type": "stream",
     "text": [
      "7\n",
      "8\n",
      "9\n"
     ]
    }
   ],
   "source": [
    "for i in nums:\n",
    "    print(i)"
   ]
  },
  {
   "cell_type": "code",
   "execution_count": null,
   "id": "c4daeba1-3fd6-4ede-83b6-d303a1f549a3",
   "metadata": {},
   "outputs": [],
   "source": [
    "# iter & next"
   ]
  },
  {
   "cell_type": "code",
   "execution_count": 63,
   "id": "a8704427-c38c-47f6-b296-356f3d24c649",
   "metadata": {},
   "outputs": [
    {
     "name": "stdout",
     "output_type": "stream",
     "text": [
      "<list_iterator object at 0x000001303FAD4370>\n"
     ]
    }
   ],
   "source": [
    "it = iter(nums) #-- iter is the inbuild function which convert list into iterator\n",
    "print(it)       # -- iterator doenot give all values it will give the value 1 by 1"
   ]
  },
  {
   "cell_type": "code",
   "execution_count": 64,
   "id": "f1605ab4-4321-4d19-b902-8e0786388463",
   "metadata": {},
   "outputs": [
    {
     "name": "stdout",
     "output_type": "stream",
     "text": [
      "7\n"
     ]
    }
   ],
   "source": [
    "print(it.__next__())"
   ]
  },
  {
   "cell_type": "code",
   "execution_count": 65,
   "id": "95092d3f-9890-42b1-9cff-9ff86575ec06",
   "metadata": {},
   "outputs": [
    {
     "name": "stdout",
     "output_type": "stream",
     "text": [
      "8\n"
     ]
    }
   ],
   "source": [
    "print(it.__next__())"
   ]
  },
  {
   "cell_type": "code",
   "execution_count": 66,
   "id": "2c68e0fb-358f-4b44-ad04-aa2b121e3be0",
   "metadata": {},
   "outputs": [
    {
     "name": "stdout",
     "output_type": "stream",
     "text": [
      "9\n"
     ]
    }
   ],
   "source": [
    "print(it.__next__())"
   ]
  },
  {
   "cell_type": "code",
   "execution_count": 67,
   "id": "40b3236e-0c4d-446e-b1d5-edd48ea3d1a6",
   "metadata": {},
   "outputs": [
    {
     "ename": "StopIteration",
     "evalue": "",
     "output_type": "error",
     "traceback": [
      "\u001b[1;31m---------------------------------------------------------------------------\u001b[0m",
      "\u001b[1;31mStopIteration\u001b[0m                             Traceback (most recent call last)",
      "Cell \u001b[1;32mIn[67], line 1\u001b[0m\n\u001b[1;32m----> 1\u001b[0m \u001b[38;5;28mprint\u001b[39m(it\u001b[38;5;241m.\u001b[39m\u001b[38;5;21m__next__\u001b[39m())\n",
      "\u001b[1;31mStopIteration\u001b[0m: "
     ]
    }
   ],
   "source": [
    "print(it.__next__())"
   ]
  },
  {
   "cell_type": "code",
   "execution_count": null,
   "id": "13e9b109-1a98-47c2-bf11-5bb3a11b2906",
   "metadata": {},
   "outputs": [],
   "source": [
    "# for loops always works with two concepts iter and next"
   ]
  },
  {
   "cell_type": "code",
   "execution_count": 71,
   "id": "dd24b1cf-7126-4d7a-9325-a2dcadeaeb8c",
   "metadata": {},
   "outputs": [
    {
     "name": "stdout",
     "output_type": "stream",
     "text": [
      "Method 1: Using for loop\n",
      "1\n",
      "2\n",
      "3\n",
      "4\n",
      "5\n",
      "6\n",
      "7\n",
      "8\n",
      "9\n",
      "10\n",
      "\n",
      "Method 2: Using iter() & next()\n",
      "1\n",
      "2\n",
      "3\n",
      "4\n",
      "5\n",
      "6\n",
      "7\n",
      "8\n",
      "9\n",
      "10\n"
     ]
    }
   ],
   "source": [
    "class token:\n",
    "\n",
    "    def __init__(self):\n",
    "        self.num = 1\n",
    "    \n",
    "    def __iter__(self):\n",
    "        return self\n",
    "    \n",
    "    def __next__(self):\n",
    "        if self.num <= 10:\n",
    "            val = self.num\n",
    "            self.num += 1\n",
    "            return val\n",
    "        else:\n",
    "            raise StopIteration   # this stops iteration\n",
    "\n",
    "\n",
    "# creating object\n",
    "values = token()\n",
    "\n",
    "# method 1: using for loop\n",
    "print(\"Method 1: Using for loop\")\n",
    "for i in values:\n",
    "    print(i)\n",
    "\n",
    "# method 2: using iter() & next()\n",
    "print(\"\\nMethod 2: Using iter() & next()\")\n",
    "values = token()   # fresh object, because previous one is exhausted\n",
    "it = iter(values)\n",
    "\n",
    "while True:\n",
    "    try:\n",
    "        print(next(it))\n",
    "    except StopIteration:\n",
    "        break\n"
   ]
  },
  {
   "cell_type": "code",
   "execution_count": null,
   "id": "01689621-32ef-4208-8022-8e7a853d882a",
   "metadata": {},
   "outputs": [],
   "source": [
    "# generators creates iterator"
   ]
  },
  {
   "cell_type": "markdown",
   "id": "0cd8ddc5-58a8-4e2b-ad39-4518ae242ccb",
   "metadata": {},
   "source": [
    "# Generator"
   ]
  },
  {
   "cell_type": "code",
   "execution_count": null,
   "id": "e97b4c42-702b-4b40-acfe-2f31b7b4c8fc",
   "metadata": {},
   "outputs": [],
   "source": [
    "we will use iterator to print the calue 1 by 1\n",
    "but there are small issue with iterator first issue id we need to create our own iterator\n",
    "using iter() and next()\n",
    "we dont want do that we want python to do for us & thats called generator"
   ]
  },
  {
   "cell_type": "code",
   "execution_count": 72,
   "id": "90dba4b4-580e-4eb3-8d56-5d3d1b3eac6a",
   "metadata": {},
   "outputs": [
    {
     "name": "stdout",
     "output_type": "stream",
     "text": [
      "5\n"
     ]
    }
   ],
   "source": [
    "def topten():\n",
    "    return 5\n",
    "\n",
    "values = topten()\n",
    "\n",
    "print(values)"
   ]
  },
  {
   "cell_type": "code",
   "execution_count": 74,
   "id": "79b53256-319f-4db2-bcab-c59b210bf30b",
   "metadata": {},
   "outputs": [
    {
     "name": "stdout",
     "output_type": "stream",
     "text": [
      "<generator object topten at 0x00000130408AF060>\n"
     ]
    }
   ],
   "source": [
    "def topten():\n",
    "    yield 5          # yeild is a geberator\n",
    " \n",
    "values = topten()\n",
    "\n",
    "print(values)"
   ]
  },
  {
   "cell_type": "code",
   "execution_count": 76,
   "id": "55c47ed7-ff3c-4ee8-9e1c-084a0078ece2",
   "metadata": {},
   "outputs": [
    {
     "name": "stdout",
     "output_type": "stream",
     "text": [
      "5\n"
     ]
    }
   ],
   "source": [
    "def topten():\n",
    "    yield 5\n",
    "    yield 6\n",
    "    yield 7\n",
    "    yield 8\n",
    "    yield 9\n",
    "\n",
    "values = topten()\n",
    "\n",
    "print(values.__next__())"
   ]
  },
  {
   "cell_type": "code",
   "execution_count": 79,
   "id": "d53bea85-8a3b-4279-beda-73c95ebdba5a",
   "metadata": {},
   "outputs": [
    {
     "name": "stdout",
     "output_type": "stream",
     "text": [
      "5\n",
      "6\n",
      "7\n",
      "8\n"
     ]
    }
   ],
   "source": [
    "def topten():\n",
    "    yield 5\n",
    "    yield 6\n",
    "    yield 7\n",
    "    yield 8\n",
    "    yield 9\n",
    "\n",
    "values = topten()\n",
    "\n",
    "print(values.__next__())\n",
    "print(values.__next__())\n",
    "print(values.__next__())\n",
    "print(values.__next__())"
   ]
  },
  {
   "cell_type": "markdown",
   "id": "9dc35eb1-dbc9-4e40-9858-9863d4309745",
   "metadata": {},
   "source": [
    "# Multithreding in python"
   ]
  },
  {
   "cell_type": "code",
   "execution_count": 80,
   "id": "c2ca3ea6-75db-4e67-a2d8-5805a73c40d1",
   "metadata": {},
   "outputs": [
    {
     "name": "stdout",
     "output_type": "stream",
     "text": [
      "hello\n",
      "hello\n",
      "hello\n",
      "hello\n",
      "hello\n",
      "hi\n",
      "hi\n",
      "hi\n",
      "hi\n",
      "hi\n"
     ]
    }
   ],
   "source": [
    "class hello:\n",
    "    def run(self):\n",
    "        for i in range(5):\n",
    "            print('hello')\n",
    "\n",
    "class hi:\n",
    "    def run(self):\n",
    "        for i in range(5):\n",
    "            print('hi')\n",
    "\n",
    "t1 = hello()\n",
    "t2 = hi()\n",
    "\n",
    "t1.run()\n",
    "t2.run()"
   ]
  },
  {
   "cell_type": "code",
   "execution_count": 83,
   "id": "5a325473-8137-451f-bd5c-a06f516f9510",
   "metadata": {},
   "outputs": [
    {
     "ename": "NameError",
     "evalue": "name 'Thread' is not defined",
     "output_type": "error",
     "traceback": [
      "\u001b[1;31m---------------------------------------------------------------------------\u001b[0m",
      "\u001b[1;31mNameError\u001b[0m                                 Traceback (most recent call last)",
      "Cell \u001b[1;32mIn[83], line 1\u001b[0m\n\u001b[1;32m----> 1\u001b[0m \u001b[38;5;28;01mclass\u001b[39;00m \u001b[38;5;21;01mhello\u001b[39;00m(Thread):\n\u001b[0;32m      2\u001b[0m     \u001b[38;5;28;01mdef\u001b[39;00m \u001b[38;5;21mrun\u001b[39m(\u001b[38;5;28mself\u001b[39m):\n\u001b[0;32m      3\u001b[0m         \u001b[38;5;28;01mfor\u001b[39;00m i \u001b[38;5;129;01min\u001b[39;00m \u001b[38;5;28mrange\u001b[39m(\u001b[38;5;241m5\u001b[39m):\n",
      "\u001b[1;31mNameError\u001b[0m: name 'Thread' is not defined"
     ]
    }
   ],
   "source": [
    "class hello(Thread):\n",
    "    def run(self):\n",
    "        for i in range(5):\n",
    "            print('hello')\n",
    "\n",
    "class hi(Thread):\n",
    "    def run(self):\n",
    "        for i in range(5):\n",
    "            print('hi')\n",
    "\n",
    "t1 = hello()\n",
    "t2 = hi()\n",
    "\n",
    "t1.run()\n",
    "t2.run()"
   ]
  },
  {
   "cell_type": "code",
   "execution_count": 86,
   "id": "cd113497-36ff-48cf-9a31-e5cf51135124",
   "metadata": {},
   "outputs": [
    {
     "name": "stdout",
     "output_type": "stream",
     "text": [
      "hello\n",
      "hello\n",
      "hello\n",
      "hello\n",
      "hello\n",
      "hi\n",
      "hi\n",
      "hi\n",
      "hi\n",
      "hi\n"
     ]
    }
   ],
   "source": [
    "from threading import *\n",
    "\n",
    "class hello(Thread):\n",
    "    def run(self):\n",
    "        for i in range(5):\n",
    "            print('hello')\n",
    "\n",
    "class hi(Thread):\n",
    "    def run(self):\n",
    "        for i in range(5):\n",
    "            print('hi')\n",
    "\n",
    "t1 = hello()\n",
    "t2 = hi()\n",
    "\n",
    "t1.run()\n",
    "t2.run()"
   ]
  },
  {
   "cell_type": "code",
   "execution_count": 90,
   "id": "0b64a5ab-a1a5-4b96-98ad-5123a2fae260",
   "metadata": {},
   "outputs": [
    {
     "name": "stdout",
     "output_type": "stream",
     "text": [
      "hello\n",
      "hello\n",
      "hello\n",
      "hello\n",
      "hello\n",
      "hello\n",
      "hello\n",
      "hello\n",
      "hello\n",
      "hello\n",
      "hello\n",
      "hello\n",
      "hello\n",
      "hello\n",
      "hello\n",
      "hello\n",
      "hello\n",
      "hello\n",
      "hello\n",
      "hello\n",
      "hello\n",
      "hello\n",
      "hello\n",
      "hello\n",
      "hello\n",
      "hello\n",
      "hello\n",
      "hello\n",
      "hello\n",
      "hello\n",
      "hello\n",
      "hello\n",
      "hello\n",
      "hello\n",
      "hello\n",
      "hello\n",
      "hello\n",
      "hello\n",
      "hello\n",
      "hello\n",
      "hello\n",
      "hello\n",
      "hello\n",
      "hello\n",
      "hello\n",
      "hello\n",
      "hello\n",
      "hello\n",
      "hello\n",
      "hello\n",
      "hello\n",
      "hello\n",
      "hello\n",
      "hello\n",
      "hello\n",
      "hello\n",
      "hello\n",
      "hello\n",
      "hello\n",
      "hello\n",
      "hello\n",
      "hello\n",
      "hello\n",
      "hello\n",
      "hello\n",
      "hello\n",
      "hello\n",
      "hello\n",
      "hello\n",
      "hello\n",
      "hello\n",
      "hello\n",
      "hello\n",
      "hello\n",
      "hello\n",
      "hello\n",
      "hello\n",
      "hello\n",
      "hello\n",
      "hello\n",
      "hello\n",
      "hello\n",
      "hello\n",
      "hello\n",
      "hello\n",
      "hello\n",
      "hello\n",
      "hello\n",
      "hello\n",
      "hello\n",
      "hello\n",
      "hello\n",
      "hello\n",
      "hello\n",
      "hello\n",
      "hello\n",
      "hello\n",
      "hello\n",
      "hello\n",
      "hello\n",
      "hello\n",
      "hello\n",
      "hello\n",
      "hello\n",
      "hello\n",
      "hello\n",
      "hello\n",
      "hello\n",
      "hello\n",
      "hello\n",
      "hello\n",
      "hello\n",
      "hello\n",
      "hello\n",
      "hello\n",
      "hello\n",
      "hello\n",
      "hello\n",
      "hello\n",
      "hello\n",
      "hello\n",
      "hello\n",
      "hello\n",
      "hello\n",
      "hello\n",
      "hello\n",
      "hello\n",
      "hello\n",
      "hello\n",
      "hello\n",
      "hello\n",
      "hello\n",
      "hello\n",
      "hello\n",
      "hello\n",
      "hello\n",
      "hello\n",
      "hello\n",
      "hello\n",
      "hello\n",
      "hello\n",
      "hello\n",
      "hello\n",
      "hello\n",
      "hello\n",
      "hello\n",
      "hello\n",
      "hello\n",
      "hello\n",
      "hello\n",
      "hello\n",
      "hello\n",
      "hello\n",
      "hello\n",
      "hello\n",
      "hello\n",
      "hello\n",
      "hello\n",
      "hello\n",
      "hello\n",
      "hello\n",
      "hello\n",
      "hello\n",
      "hello\n",
      "hello\n",
      "hello\n",
      "hello\n",
      "hello\n",
      "hello\n",
      "hello\n",
      "hello\n",
      "hello\n",
      "hello\n",
      "hello\n",
      "hello\n",
      "hello\n",
      "hello\n",
      "hello\n",
      "hello\n",
      "hello\n",
      "hello\n",
      "hello\n",
      "hello\n",
      "hello\n",
      "hello\n",
      "hello\n",
      "hello\n",
      "hello\n",
      "hello\n",
      "hello\n",
      "hello\n",
      "hello\n",
      "hello\n",
      "hello\n",
      "hello\n",
      "hello\n",
      "hello\n",
      "hello\n",
      "hello\n",
      "hello\n",
      "hello\n",
      "hello\n",
      "hello\n",
      "hello\n",
      "hello\n",
      "hello\n",
      "hello\n",
      "hello\n",
      "hello\n",
      "hello\n",
      "hello\n",
      "hello\n",
      "hello\n",
      "hello\n",
      "hello\n",
      "hello\n",
      "hello\n",
      "hello\n",
      "hello\n",
      "hello\n",
      "hello\n",
      "hello\n",
      "hello\n",
      "hello\n",
      "hello\n",
      "hello\n",
      "hello\n",
      "hello\n",
      "hello\n",
      "hello\n",
      "hello\n",
      "hello\n",
      "hello\n",
      "hello\n",
      "hello\n",
      "hello\n",
      "hello\n",
      "hello\n",
      "hello\n",
      "hello\n",
      "hello\n",
      "hello\n",
      "hello\n",
      "hello\n",
      "hello\n",
      "hello\n",
      "hello\n",
      "hello\n",
      "hello\n",
      "hello\n",
      "hello\n",
      "hello\n",
      "hello\n",
      "hello\n",
      "hello\n",
      "hello\n",
      "hello\n",
      "hello\n",
      "hello\n",
      "hello\n",
      "hello\n",
      "hello\n",
      "hello\n",
      "hello\n",
      "hello\n",
      "hello\n",
      "hello\n",
      "hello\n",
      "hello\n",
      "hello\n",
      "hello\n",
      "hello\n",
      "hello\n",
      "hello\n",
      "hello\n",
      "hello\n",
      "hello\n",
      "hello\n",
      "hello\n",
      "hello\n",
      "hello\n",
      "hello\n",
      "hello\n",
      "hello\n",
      "hello\n",
      "hello\n",
      "hello\n",
      "hello\n",
      "hello\n",
      "hello\n",
      "hello\n",
      "hello\n",
      "hello\n",
      "hello\n",
      "hello\n",
      "hello\n",
      "hello\n",
      "hello\n",
      "hello\n",
      "hello\n",
      "hello\n",
      "hello\n",
      "hello\n",
      "hello\n",
      "hello\n",
      "hello\n",
      "hello\n",
      "hello\n",
      "hello\n",
      "hello\n",
      "hello\n",
      "hello\n",
      "hello\n",
      "hello\n",
      "hello\n",
      "hello\n",
      "hello\n",
      "hello\n",
      "hello\n",
      "hello\n",
      "hello\n",
      "hello\n",
      "hello\n",
      "hello\n",
      "hello\n",
      "hello\n",
      "hello\n",
      "hello\n",
      "hello\n",
      "hello\n",
      "hello\n",
      "hello\n",
      "hello\n",
      "hello\n",
      "hello\n",
      "hello\n",
      "hello\n",
      "hello\n",
      "hello\n",
      "hello\n",
      "hello\n",
      "hello\n",
      "hello\n",
      "hello\n",
      "hello\n",
      "hello\n",
      "hello\n",
      "hello\n",
      "hello\n",
      "hello\n",
      "hello\n",
      "hello\n",
      "hello\n",
      "hello\n",
      "hello\n",
      "hello\n",
      "hello\n",
      "hello\n",
      "hello\n",
      "hello\n",
      "hello\n",
      "hello\n",
      "hello\n",
      "hello\n",
      "hello\n",
      "hello\n",
      "hello\n",
      "hello\n",
      "hello\n",
      "hello\n",
      "hello\n",
      "hello\n",
      "hello\n",
      "hello\n",
      "hello\n",
      "hello\n",
      "hello\n",
      "hello\n",
      "hello\n",
      "hello\n",
      "hello\n",
      "hello\n",
      "hello\n",
      "hello\n",
      "hello\n",
      "hello\n",
      "hello\n",
      "hello\n",
      "hello\n",
      "hello\n",
      "hello\n",
      "hello\n",
      "hello\n",
      "hello\n",
      "hello\n",
      "hello\n",
      "hello\n",
      "hello\n",
      "hello\n",
      "hello\n",
      "hello\n",
      "hello\n",
      "hello\n",
      "hello\n",
      "hello\n",
      "hello\n",
      "hello\n",
      "hello\n",
      "hello\n",
      "hello\n",
      "hello\n",
      "hello\n",
      "hello\n",
      "hello\n",
      "hello\n",
      "hello\n",
      "hello\n",
      "hello\n",
      "hello\n",
      "hello\n",
      "hello\n",
      "hello\n",
      "hello\n",
      "hello\n",
      "hello\n",
      "hello\n",
      "hello\n",
      "hello\n",
      "hello\n",
      "hello\n",
      "hello\n",
      "hello\n",
      "hello\n",
      "hello\n",
      "hello\n",
      "hello\n",
      "hello\n",
      "hello\n",
      "hello\n",
      "hello\n",
      "hello\n",
      "hello\n",
      "hello\n",
      "hello\n",
      "hello\n",
      "hello\n",
      "hello\n",
      "hello\n",
      "hello\n",
      "hello\n",
      "hello\n",
      "hello\n",
      "hello\n",
      "hello\n",
      "hello\n",
      "hello\n",
      "hello\n",
      "hello\n",
      "hello\n",
      "hello\n",
      "hello\n",
      "hello\n",
      "hello\n",
      "hello\n",
      "hello\n",
      "hello\n",
      "hello\n",
      "hello\n",
      "hello\n",
      "hello\n",
      "hello\n",
      "hello\n",
      "hello\n",
      "hello\n",
      "hello\n",
      "hello\n",
      "hello\n",
      "hello\n",
      "hello\n",
      "hello\n",
      "hello\n",
      "hello\n",
      "hello\n",
      "hello\n",
      "hello\n",
      "hello\n",
      "hello\n",
      "hello\n",
      "hello\n",
      "hello\n",
      "hello\n",
      "hello\n",
      "hello\n",
      "hello\n",
      "hello\n",
      "hello\n",
      "hello\n",
      "hello\n",
      "hello\n",
      "hello\n",
      "hi\n",
      "hi\n",
      "hi\n",
      "hi\n",
      "hi\n",
      "hi\n",
      "hi\n",
      "hi\n",
      "hi\n",
      "hi\n",
      "hi\n",
      "hi\n",
      "hi\n",
      "hi\n",
      "hi\n",
      "hi\n",
      "hi\n",
      "hi\n",
      "hi\n",
      "hi\n",
      "hi\n",
      "hi\n",
      "hi\n",
      "hi\n",
      "hi\n",
      "hi\n",
      "hi\n",
      "hi\n",
      "hi\n",
      "hi\n",
      "hi\n",
      "hi\n",
      "hi\n",
      "hi\n",
      "hi\n",
      "hi\n",
      "hi\n",
      "hi\n",
      "hi\n",
      "hi\n",
      "hi\n",
      "hi\n",
      "hi\n",
      "hi\n",
      "hi\n",
      "hi\n",
      "hi\n",
      "hi\n",
      "hi\n",
      "hi\n",
      "hi\n",
      "hi\n",
      "hi\n",
      "hi\n",
      "hi\n",
      "hi\n",
      "hi\n",
      "hi\n",
      "hi\n",
      "hi\n",
      "hi\n",
      "hi\n",
      "hi\n",
      "hi\n",
      "hi\n",
      "hi\n",
      "hi\n",
      "hi\n",
      "hi\n",
      "hi\n",
      "hi\n",
      "hi\n",
      "hi\n",
      "hi\n",
      "hi\n",
      "hi\n",
      "hi\n",
      "hi\n",
      "hi\n",
      "hi\n",
      "hi\n",
      "hi\n",
      "hi\n",
      "hi\n",
      "hi\n",
      "hi\n",
      "hi\n",
      "hi\n",
      "hi\n",
      "hi\n",
      "hi\n",
      "hi\n",
      "hi\n",
      "hi\n",
      "hi\n",
      "hi\n",
      "hi\n",
      "hi\n",
      "hi\n",
      "hi\n",
      "hi\n",
      "hi\n",
      "hi\n",
      "hi\n",
      "hi\n",
      "hi\n",
      "hi\n",
      "hi\n",
      "hi\n",
      "hi\n",
      "hi\n",
      "hi\n",
      "hi\n",
      "hi\n",
      "hi\n",
      "hi\n",
      "hi\n",
      "hi\n",
      "hi\n",
      "hi\n",
      "hi\n",
      "hi\n",
      "hi\n",
      "hi\n",
      "hi\n",
      "hi\n",
      "hi\n",
      "hi\n",
      "hi\n",
      "hi\n",
      "hi\n",
      "hi\n",
      "hi\n",
      "hi\n",
      "hi\n",
      "hi\n",
      "hi\n",
      "hi\n",
      "hi\n",
      "hi\n",
      "hi\n",
      "hi\n",
      "hi\n",
      "hi\n",
      "hi\n",
      "hi\n",
      "hi\n",
      "hi\n",
      "hi\n",
      "hi\n",
      "hi\n",
      "hi\n",
      "hi\n",
      "hi\n",
      "hi\n",
      "hi\n",
      "hi\n",
      "hi\n",
      "hi\n",
      "hi\n",
      "hi\n",
      "hi\n",
      "hi\n",
      "hi\n",
      "hi\n",
      "hi\n",
      "hi\n",
      "hi\n",
      "hi\n",
      "hi\n",
      "hi\n",
      "hi\n",
      "hi\n",
      "hi\n",
      "hi\n",
      "hi\n",
      "hi\n",
      "hi\n",
      "hi\n",
      "hi\n",
      "hi\n",
      "hi\n",
      "hi\n",
      "hi\n",
      "hi\n",
      "hi\n",
      "hi\n",
      "hi\n",
      "hi\n",
      "hi\n",
      "hi\n",
      "hi\n",
      "hi\n",
      "hi\n",
      "hi\n",
      "hi\n",
      "hi\n",
      "hi\n",
      "hi\n",
      "hi\n",
      "hi\n",
      "hi\n",
      "hi\n",
      "hi\n",
      "hi\n",
      "hi\n",
      "hi\n",
      "hi\n",
      "hi\n",
      "hi\n",
      "hi\n",
      "hi\n",
      "hi\n",
      "hi\n",
      "hi\n",
      "hi\n",
      "hi\n",
      "hi\n",
      "hi\n",
      "hi\n",
      "hi\n",
      "hi\n",
      "hi\n",
      "hi\n",
      "hi\n",
      "hi\n",
      "hi\n",
      "hi\n",
      "hi\n",
      "hi\n",
      "hi\n",
      "hi\n",
      "hi\n",
      "hi\n",
      "hi\n",
      "hi\n",
      "hi\n",
      "hi\n",
      "hi\n",
      "hi\n",
      "hi\n",
      "hi\n",
      "hi\n",
      "hi\n",
      "hi\n",
      "hi\n",
      "hi\n",
      "hi\n",
      "hi\n",
      "hi\n",
      "hi\n",
      "hi\n",
      "hi\n",
      "hi\n",
      "hi\n",
      "hi\n",
      "hi\n",
      "hi\n",
      "hi\n",
      "hi\n",
      "hi\n",
      "hi\n",
      "hi\n",
      "hi\n",
      "hi\n",
      "hi\n",
      "hi\n",
      "hi\n",
      "hi\n",
      "hi\n",
      "hi\n",
      "hi\n",
      "hi\n",
      "hi\n",
      "hi\n",
      "hi\n",
      "hi\n",
      "hi\n",
      "hi\n",
      "hi\n",
      "hi\n",
      "hi\n",
      "hi\n",
      "hi\n",
      "hi\n",
      "hi\n",
      "hi\n",
      "hi\n",
      "hi\n",
      "hi\n",
      "hi\n",
      "hi\n",
      "hi\n",
      "hi\n",
      "hi\n",
      "hi\n",
      "hi\n",
      "hi\n",
      "hi\n",
      "hi\n",
      "hi\n",
      "hi\n",
      "hi\n",
      "hi\n",
      "hi\n",
      "hi\n",
      "hi\n",
      "hi\n",
      "hi\n",
      "hi\n",
      "hi\n",
      "hi\n",
      "hi\n",
      "hi\n",
      "hi\n",
      "hi\n",
      "hi\n",
      "hi\n",
      "hi\n",
      "hi\n",
      "hi\n",
      "hi\n",
      "hi\n",
      "hi\n",
      "hi\n",
      "hi\n",
      "hi\n",
      "hi\n",
      "hi\n",
      "hi\n",
      "hi\n",
      "hi\n",
      "hi\n",
      "hi\n",
      "hi\n",
      "hi\n",
      "hi\n",
      "hi\n",
      "hi\n",
      "hi\n",
      "hi\n",
      "hi\n",
      "hi\n",
      "hi\n",
      "hi\n",
      "hi\n",
      "hi\n",
      "hi\n",
      "hi\n",
      "hi\n",
      "hi\n",
      "hi\n",
      "hi\n",
      "hi\n",
      "hi\n",
      "hi\n",
      "hi\n",
      "hi\n",
      "hi\n",
      "hi\n",
      "hi\n",
      "hi\n",
      "hi\n",
      "hi\n",
      "hi\n",
      "hi\n",
      "hi\n",
      "hi\n",
      "hi\n",
      "hi\n",
      "hi\n",
      "hi\n",
      "hi\n",
      "hi\n",
      "hi\n",
      "hi\n",
      "hi\n",
      "hi\n",
      "hi\n",
      "hi\n",
      "hi\n",
      "hi\n",
      "hi\n",
      "hi\n",
      "hi\n",
      "hi\n",
      "hi\n",
      "hi\n",
      "hi\n",
      "hi\n",
      "hi\n",
      "hi\n",
      "hi\n",
      "hi\n",
      "hi\n",
      "hi\n",
      "hi\n",
      "hi\n",
      "hi\n",
      "hi\n",
      "hi\n",
      "hi\n",
      "hi\n",
      "hi\n",
      "hi\n",
      "hi\n",
      "hi\n",
      "hi\n",
      "hi\n",
      "hi\n",
      "hi\n",
      "hi\n",
      "hi\n",
      "hi\n",
      "hi\n",
      "hi\n",
      "hi\n",
      "hi\n",
      "hi\n",
      "hi\n",
      "hi\n",
      "hi\n",
      "hi\n",
      "hi\n",
      "hi\n",
      "hi\n",
      "hi\n",
      "hi\n",
      "hi\n",
      "hi\n",
      "hi\n",
      "hi\n",
      "hi\n",
      "hi\n",
      "hi\n",
      "hi\n",
      "hi\n",
      "hi\n",
      "hi\n",
      "hi\n",
      "hi\n",
      "hi\n",
      "hi\n",
      "hi\n",
      "hi\n",
      "hi\n",
      "hi\n",
      "hi\n",
      "hi\n",
      "hi\n",
      "hi\n",
      "hi\n",
      "hi\n",
      "hi\n",
      "hi\n",
      "hi\n",
      "hi\n",
      "hi\n",
      "hi\n",
      "hi\n",
      "hi\n",
      "hi\n",
      "hi\n",
      "hi\n",
      "hi\n",
      "hi\n",
      "hi\n",
      "hi\n",
      "hi\n",
      "hi\n",
      "hi\n",
      "hi\n",
      "hi\n",
      "hi\n",
      "hi\n",
      "hi\n",
      "hi\n",
      "hi\n",
      "hi\n",
      "hi\n",
      "hi\n",
      "hi\n",
      "hi\n",
      "hi\n",
      "hi\n",
      "hi\n",
      "hi\n",
      "hi\n",
      "hi\n",
      "hi\n",
      "hi\n",
      "hi\n",
      "hi\n",
      "hi\n",
      "hi\n",
      "hi\n",
      "hi\n",
      "hi\n",
      "hi\n",
      "hi\n"
     ]
    }
   ],
   "source": [
    "from threading import *\n",
    "\n",
    "class hello(Thread):\n",
    "    def run(self):\n",
    "        for i in range(500):\n",
    "            print('hello')\n",
    "\n",
    "class hi(Thread):\n",
    "    def run(self):\n",
    "        for i in range(500):\n",
    "            print('hi')\n",
    "\n",
    "t1 = hello()\n",
    "t2 = hi()\n",
    "\n",
    "t1.start()\n",
    "t2.start()"
   ]
  },
  {
   "cell_type": "code",
   "execution_count": 91,
   "id": "b0f623d2-a7b8-462c-850c-c0c439ccd07f",
   "metadata": {},
   "outputs": [
    {
     "name": "stdout",
     "output_type": "stream",
     "text": [
      "hello\n",
      "hi\n",
      "hello\n",
      "hi\n",
      "hello\n",
      "hi\n",
      "hello\n",
      "hi\n",
      "hello\n",
      "hi\n",
      "hello\n",
      "hi\n",
      "hello\n",
      "hi\n",
      "hello\n",
      "hi\n",
      "hello\n",
      "hi\n",
      "hello\n",
      "hi\n",
      "hello\n",
      "hi\n",
      "hello\n",
      "hi\n",
      "hello\n",
      "hi\n",
      "hello\n",
      "hi\n",
      "hello\n",
      "hi\n",
      "hello\n",
      "hi\n",
      "hello\n",
      "hi\n",
      "hello\n",
      "hi\n",
      "hello\n",
      "hi\n",
      "hello\n",
      "hi\n",
      "hello\n",
      "hi\n",
      "hello\n",
      "hi\n",
      "hello\n",
      "hi\n",
      "hello\n",
      "hi\n",
      "hello\n",
      "hi\n",
      "hello\n",
      "hi\n",
      "hello\n",
      "hi\n",
      "hello\n",
      "hi\n",
      "hello\n",
      "hi\n",
      "hello\n",
      "hi\n",
      "hi\n",
      "hello\n",
      "hi\n",
      "hello\n",
      "hi\n",
      "hello\n",
      "hi\n",
      "hello\n",
      "hi\n",
      "hello\n",
      "hi\n",
      "hello\n",
      "hi\n",
      "hello\n",
      "hi\n",
      "hello\n",
      "hi\n",
      "hello\n",
      "hi\n",
      "hello\n",
      "hi\n",
      "hello\n",
      "hi\n",
      "hello\n",
      "hi\n",
      "hello\n",
      "hi\n",
      "hello\n",
      "hi\n",
      "hello\n",
      "hi\n",
      "hello\n",
      "hi\n",
      "hello\n",
      "hi\n",
      "hello\n",
      "hi\n",
      "hello\n",
      "hi\n",
      "hello\n",
      "hellohi\n",
      "\n",
      "hihello\n",
      "\n",
      "hellohi\n",
      "\n",
      "hihello\n",
      "\n",
      "hihello\n",
      "\n",
      "hello\n",
      "hi\n",
      "hellohi\n",
      "\n",
      "hellohi\n",
      "\n",
      "hihello\n",
      "\n",
      "hihello\n",
      "\n",
      "hello\n",
      "hi\n",
      "hello\n",
      "hi\n",
      "hello\n",
      "hi\n",
      "hellohi\n",
      "\n",
      "hi\n",
      "hello\n",
      "hi\n",
      "hello\n",
      "hi\n",
      "hello\n",
      "hi\n",
      "hello\n",
      "hihello\n",
      "\n",
      "hi\n",
      "hello\n",
      "hihello\n",
      "\n",
      "hihello\n",
      "\n",
      "hihello\n",
      "\n",
      "hihello\n",
      "\n",
      "hihello\n",
      "\n",
      "hihello\n",
      "\n",
      "hihello\n",
      "\n",
      "hihello\n",
      "\n",
      "hihello\n",
      "\n",
      "hihello\n",
      "\n",
      "hellohi\n",
      "\n",
      "hihello\n",
      "\n",
      "hellohi\n",
      "\n",
      "hi\n",
      "hello\n",
      "hellohi\n",
      "\n",
      "hellohi\n",
      "\n",
      "hihello\n",
      "\n",
      "hihello\n",
      "\n",
      "hihello\n",
      "\n",
      "hihello\n",
      "\n",
      "hellohi\n",
      "\n",
      "hi\n",
      "hello\n",
      "hi\n",
      "hello\n",
      "hi\n",
      "hello\n",
      "hi\n",
      "hello\n",
      "hihello\n",
      "\n",
      "hi\n",
      "hello\n",
      "hihello\n",
      "\n",
      "hihello\n",
      "\n",
      "hihello\n",
      "\n",
      "hihello\n",
      "\n",
      "hihello\n",
      "\n",
      "hihello\n",
      "\n",
      "hellohi\n",
      "\n",
      "hellohi\n",
      "\n",
      "hihello\n",
      "\n",
      "hihello\n",
      "\n",
      "hihello\n",
      "\n",
      "hello\n",
      "hi\n",
      "hello\n",
      "hi\n",
      "hello\n",
      "hi\n",
      "hello\n",
      "hi\n",
      "hello\n",
      "hi\n",
      "hello\n",
      "hi\n",
      "hello\n",
      "hi\n",
      "hello\n",
      "hi\n",
      "hello\n",
      "hi\n",
      "hello\n",
      "hi\n",
      "hello\n",
      "hi\n",
      "hello\n",
      "hi\n",
      "hihello\n",
      "\n",
      "hihello\n",
      "\n",
      "hihello\n",
      "\n",
      "hihello\n",
      "\n",
      "hihello\n",
      "\n",
      "hello\n",
      "hi\n",
      "hello\n",
      "hi\n",
      "hello\n",
      "hi\n",
      "hello\n",
      "hi\n",
      "hello\n",
      "hi\n",
      "hello\n",
      "hi\n",
      "hello\n",
      "hi\n",
      "hello\n",
      "hi\n",
      "hello\n",
      "hi\n",
      "hello\n",
      "hi\n",
      "hello\n",
      "hi\n",
      "hello\n",
      "hi\n",
      "hello\n",
      "hi\n",
      "hello\n",
      "hi\n",
      "hello\n",
      "hi\n",
      "hello\n",
      "hi\n",
      "hihello\n",
      "\n",
      "hihello\n",
      "\n",
      "hihello\n",
      "\n",
      "hihello\n",
      "\n",
      "hellohi\n",
      "\n",
      "hellohi\n",
      "\n",
      "hihello\n",
      "\n",
      "hihello\n",
      "\n",
      "hihello\n",
      "\n",
      "hello\n",
      "hi\n",
      "hellohi\n",
      "\n",
      "hellohi\n",
      "\n",
      "hihello\n",
      "\n",
      "hihello\n",
      "\n",
      "hello\n",
      "hi\n",
      "hello\n",
      "hi\n",
      "hello\n",
      "hi\n",
      "hello\n",
      "hi\n",
      "hello\n",
      "hi\n",
      "hello\n",
      "hi\n",
      "hello\n",
      "hi\n",
      "hello\n",
      "hi\n",
      "hello\n",
      "hi\n",
      "hello\n",
      "hi\n",
      "hello\n",
      "hi\n",
      "hihello\n",
      "\n",
      "hihello\n",
      "\n",
      "hihello\n",
      "\n",
      "hellohi\n",
      "\n",
      "hellohi\n",
      "\n",
      "hellohi\n",
      "\n",
      "hellohi\n",
      "\n",
      "hellohi\n",
      "\n",
      "hello\n",
      "hi\n",
      "hello\n",
      "hi\n",
      "hello\n",
      "hi\n",
      "hello\n",
      "hi\n",
      "hello\n",
      "hi\n",
      "hello\n",
      "hi\n",
      "hello\n",
      "hi\n",
      "hello\n",
      "hi\n",
      "hello\n",
      "hi\n",
      "hello\n",
      "hi\n",
      "hello\n",
      "hi\n",
      "hello\n",
      "hi\n",
      "hihello\n",
      "\n",
      "hihello\n",
      "\n",
      "hello\n",
      "hi\n",
      "hello\n",
      "hi\n",
      "hello\n",
      "hi\n",
      "hello\n",
      "hi\n",
      "hello\n",
      "hi\n",
      "hello\n",
      "hi\n",
      "hello\n",
      "hi\n",
      "hello\n",
      "hi\n",
      "hello\n",
      "hi\n",
      "hello\n",
      "hi\n",
      "hello\n",
      "hi\n",
      "hello\n",
      "hi\n",
      "hello\n",
      "hi\n",
      "hello\n",
      "hi\n",
      "hello\n",
      "hi\n",
      "hellohi\n",
      "\n",
      "hi\n",
      "hello\n",
      "hi\n",
      "hello\n",
      "hi\n",
      "hello\n",
      "hi\n",
      "hello\n",
      "hi\n",
      "hello\n",
      "hi\n",
      "hello\n",
      "hi\n",
      "hello\n",
      "hi\n",
      "hello\n",
      "hi\n",
      "hello\n",
      "hi\n",
      "hello\n",
      "hi\n",
      "hello\n",
      "hellohi\n",
      "\n",
      "hi\n",
      "hello\n",
      "hi\n",
      "hello\n",
      "hi\n",
      "hello\n",
      "hi\n",
      "hello\n",
      "hi\n",
      "hello\n",
      "hi\n",
      "hello\n",
      "hi\n",
      "hello\n",
      "hi\n",
      "hello\n",
      "hi\n",
      "hello\n",
      "hi\n",
      "hello\n",
      "hi\n",
      "hello\n",
      "hi\n",
      "hello\n",
      "hi\n",
      "hello\n",
      "hi\n",
      "hello\n",
      "hi\n",
      "hello\n",
      "hi\n",
      "hello\n",
      "hi\n",
      "hello\n",
      "hi\n",
      "hello\n",
      "hi\n",
      "hello\n",
      "hi\n",
      "hello\n",
      "hi\n",
      "hello\n",
      "hi\n",
      "hello\n",
      "hi\n",
      "hello\n",
      "hi\n",
      "hello\n",
      "hi\n",
      "hello\n",
      "hellohi\n",
      "\n",
      "hihello\n",
      "\n",
      "hihello\n",
      "\n",
      "hello\n",
      "hi\n",
      "hello\n",
      "hi\n",
      "hello\n",
      "hi\n",
      "hello\n",
      "hi\n",
      "hello\n",
      "hi\n",
      "hello\n",
      "hi\n",
      "hello\n",
      "hi\n",
      "hello\n",
      "hi\n",
      "hello\n",
      "hi\n",
      "hello\n",
      "hi\n",
      "hello\n",
      "hi\n",
      "hello\n",
      "hi\n",
      "hello\n",
      "hi\n",
      "hello\n",
      "hi\n",
      "hello\n",
      "hi\n",
      "hello\n",
      "hi\n",
      "hello\n",
      "hi\n",
      "hello\n",
      "hi\n",
      "hello\n",
      "hi\n",
      "hello\n",
      "hi\n",
      "hello\n",
      "hi\n",
      "hello\n",
      "hi\n",
      "hello\n",
      "hi\n",
      "hello\n",
      "hi\n",
      "hello\n",
      "hi\n",
      "hello\n",
      "hi\n",
      "hello\n",
      "hi\n",
      "hello\n",
      "hi\n",
      "hello\n",
      "hi\n",
      "hello\n",
      "hi\n",
      "hello\n",
      "hi\n",
      "hello\n",
      "hi\n",
      "hello\n",
      "hi\n",
      "hello\n",
      "hi\n",
      "hello\n",
      "hi\n",
      "hello\n",
      "hi\n",
      "hello\n",
      "hi\n",
      "hello\n",
      "hi\n",
      "hello\n",
      "hi\n",
      "hello\n",
      "hi\n",
      "hello\n",
      "hi\n",
      "hello\n",
      "hi\n",
      "hello\n",
      "hi\n",
      "hello\n",
      "hi\n",
      "hello\n",
      "hi\n",
      "hello\n",
      "hi\n",
      "hello\n",
      "hi\n",
      "hello\n",
      "hi\n",
      "hello\n",
      "hi\n",
      "hello\n",
      "hi\n",
      "hello\n",
      "hi\n",
      "hellohi\n",
      "\n",
      "hi\n",
      "hello\n",
      "hi\n",
      "hello\n",
      "hi\n",
      "hello\n",
      "hi\n",
      "hello\n",
      "hi\n",
      "hello\n",
      "hi\n",
      "hello\n",
      "hi\n",
      "hello\n",
      "hi\n",
      "hello\n",
      "hihello\n",
      "\n",
      "hellohi\n",
      "\n",
      "hihello\n",
      "\n",
      "hellohi\n",
      "\n",
      "hellohi\n",
      "\n",
      "hellohi\n",
      "\n",
      "hihello\n",
      "\n",
      "hihello\n",
      "\n",
      "hihello\n",
      "\n",
      "hello\n",
      "hi\n",
      "hello\n",
      "hi\n",
      "hello\n",
      "hi\n",
      "hello\n",
      "hi\n",
      "hello\n",
      "hi\n",
      "hello\n",
      "hi\n",
      "hello\n",
      "hi\n",
      "hello\n",
      "hi\n",
      "hello\n",
      "hi\n",
      "hello\n",
      "hi\n",
      "hello\n",
      "hi\n",
      "hello\n",
      "hi\n",
      "hello\n",
      "hi\n",
      "hello\n",
      "hi\n",
      "hello\n",
      "hi\n",
      "hello\n",
      "hi\n",
      "hello\n",
      "hi\n",
      "hello\n",
      "hi\n",
      "hello\n",
      "hi\n",
      "hello\n",
      "hi\n",
      "hellohi\n",
      "\n",
      "hihello\n",
      "\n",
      "hellohi\n",
      "\n",
      "hellohi\n",
      "\n",
      "hellohi\n",
      "\n",
      "hellohi\n",
      "\n",
      "hellohi\n",
      "\n",
      "hihello\n",
      "\n",
      "hellohi\n",
      "\n",
      "hihello\n",
      "\n",
      "hihello\n",
      "\n",
      "hellohi\n",
      "\n",
      "hihello\n",
      "\n",
      "hihello\n",
      "\n",
      "hellohi\n",
      "\n",
      "hellohi\n",
      "\n",
      "hihello\n",
      "\n",
      "hihello\n",
      "\n",
      "hihello\n",
      "\n",
      "hellohi\n",
      "\n",
      "hellohi\n",
      "\n",
      "hihello\n",
      "\n",
      "hellohi\n",
      "\n",
      "hi\n",
      "hello\n",
      "hi\n",
      "hello\n",
      "hi\n",
      "hello\n",
      "hi\n",
      "hello\n",
      "hi\n",
      "hello\n",
      "hi\n",
      "hello\n",
      "hi\n",
      "hello\n",
      "hi\n",
      "hello\n",
      "hi\n",
      "hello\n",
      "hi\n",
      "hello\n",
      "hi\n",
      "hello\n",
      "hihello\n",
      "\n",
      "hihello\n",
      "\n",
      "hello\n",
      "hi\n",
      "hello\n",
      "hi\n",
      "hello\n",
      "hi\n",
      "hello\n",
      "hi\n",
      "hello\n",
      "hi\n",
      "hello\n",
      "hi\n",
      "hello\n",
      "hi\n",
      "hello\n",
      "hi\n",
      "hello\n",
      "hi\n",
      "hello\n",
      "hi\n",
      "hello\n",
      "hi\n",
      "hello\n",
      "hi\n",
      "hellohi\n",
      "\n",
      "hellohi\n",
      "\n",
      "hihello\n",
      "\n",
      "hihello\n",
      "\n",
      "hellohi\n",
      "\n",
      "hellohi\n",
      "\n",
      "hihello\n",
      "\n",
      "hello\n",
      "hi\n",
      "hihello\n",
      "\n",
      "hihello\n",
      "\n",
      "hellohi\n",
      "\n",
      "hihello\n",
      "\n",
      "hihello\n",
      "\n",
      "hihello\n",
      "\n",
      "hihello\n",
      "\n",
      "hellohi\n",
      "\n",
      "hellohi\n",
      "\n",
      "hihello\n",
      "\n",
      "hihello\n",
      "\n",
      "hellohi\n",
      "\n",
      "hellohi\n",
      "\n",
      "hellohi\n",
      "\n",
      "hellohi\n",
      "\n",
      "hihello\n",
      "\n",
      "hihello\n",
      "\n",
      "hellohi\n",
      "\n",
      "hellohi\n",
      "\n",
      "hi\n",
      "hello\n",
      "hihello\n",
      "\n",
      "hihello\n",
      "\n",
      "hellohi\n",
      "\n",
      "hi\n",
      "hello\n",
      "hihello\n",
      "\n",
      "hello\n",
      "hi\n",
      "hello\n",
      "hi\n",
      "hello\n",
      "hi\n",
      "hello\n",
      "hi\n",
      "hello\n",
      "hi\n",
      "hello\n",
      "hi\n",
      "hello\n",
      "hi\n",
      "hello\n",
      "hi\n",
      "hello\n",
      "hi\n",
      "hello\n",
      "hi\n",
      "hello\n",
      "hi\n",
      "hello\n",
      "hi\n",
      "hello\n",
      "hi\n",
      "hello\n",
      "hi\n",
      "hello\n",
      "hi\n",
      "hello\n",
      "hi\n",
      "hello\n",
      "hi\n",
      "hello\n",
      "hi\n",
      "hello\n",
      "hi\n",
      "hello\n",
      "hi\n",
      "hello\n",
      "hi\n",
      "hellohi\n",
      "\n",
      "hi\n",
      "hello\n",
      "hi\n",
      "hello\n",
      "hi\n",
      "hello\n",
      "hi\n",
      "hello\n",
      "hi\n",
      "hello\n",
      "hi\n",
      "hello\n",
      "hi\n",
      "hello\n",
      "hi\n",
      "hello\n",
      "hi\n",
      "hello\n",
      "hi\n",
      "hello\n",
      "hi\n",
      "hello\n",
      "hi\n",
      "hello\n",
      "hi\n",
      "hello\n",
      "hellohi\n",
      "\n",
      "hihello\n",
      "\n",
      "hihello\n",
      "\n",
      "hihello\n",
      "\n",
      "hihello\n",
      "\n",
      "hihello\n",
      "\n",
      "hello\n",
      "hi\n",
      "hello\n",
      "hi\n",
      "hello\n",
      "hi\n",
      "hello\n",
      "hi\n",
      "hello\n",
      "hi\n",
      "hello\n",
      "hi\n",
      "hello\n",
      "hi\n",
      "hihello\n",
      "\n",
      "hihello\n",
      "\n",
      "hihello\n",
      "\n",
      "hihello\n",
      "\n",
      "hihello\n",
      "\n",
      "hihello\n",
      "\n",
      "hihello\n",
      "\n",
      "hellohi\n",
      "\n",
      "hellohi\n",
      "\n",
      "hi\n",
      "hello\n",
      "hi\n",
      "hello\n",
      "hellohi\n",
      "\n",
      "hihello\n",
      "\n",
      "hihello\n",
      "\n",
      "hellohi\n",
      "\n",
      "hihello\n",
      "\n",
      "hihello\n",
      "\n",
      "hihello\n",
      "\n",
      "hellohi\n",
      "\n",
      "hihello\n",
      "\n",
      "hihello\n",
      "\n",
      "hellohi\n",
      "\n",
      "hihello\n",
      "\n",
      "hihello\n",
      "\n",
      "hellohi\n",
      "\n",
      "hellohi\n",
      "\n",
      "hellohi\n",
      "\n",
      "hi\n",
      "hello\n",
      "hi\n",
      "hello\n",
      "hellohi\n",
      "\n",
      "hihello\n",
      "\n",
      "hihello\n",
      "\n",
      "hihello\n",
      "\n",
      "hello\n",
      "hi\n",
      "hihello\n",
      "\n",
      "hello\n",
      "hi\n",
      "hello\n",
      "hi\n",
      "hello\n",
      "hi\n"
     ]
    }
   ],
   "source": [
    "from time import sleep\n",
    "from threading import *\n",
    "\n",
    "class hello(Thread):\n",
    "    def run(self):\n",
    "        for i in range(500):\n",
    "            print('hello')\n",
    "            sleep(1)\n",
    "\n",
    "class hi(Thread):\n",
    "    def run(self):\n",
    "        for i in range(500):\n",
    "            print('hi')\n",
    "            sleep(1)\n",
    "\n",
    "t1 = hello()\n",
    "t2 = hi()\n",
    "\n",
    "t1.start()\n",
    "t2.start()"
   ]
  },
  {
   "cell_type": "code",
   "execution_count": null,
   "id": "707abeb5-8299-4b3f-9f7e-97a7ebdff27e",
   "metadata": {},
   "outputs": [],
   "source": [
    "# what are the topic we are completed\n",
    "python\n",
    "eda\n",
    "stat\n",
    "ml\n",
    "nlp\n",
    "mlops\n",
    "cicd\n",
    "sql\n",
    "\n",
    "=============\n",
    "\n",
    "sql(advabced)\n",
    "timeseries, rnn\n",
    "generative ai\n",
    "agentic ai\n",
    "\n"
   ]
  },
  {
   "cell_type": "code",
   "execution_count": null,
   "id": "3053322d-2049-4505-990b-f34e219b21b8",
   "metadata": {},
   "outputs": [],
   "source": []
  }
 ],
 "metadata": {
  "kernelspec": {
   "display_name": "Python 3 (ipykernel)",
   "language": "python",
   "name": "python3"
  },
  "language_info": {
   "codemirror_mode": {
    "name": "ipython",
    "version": 3
   },
   "file_extension": ".py",
   "mimetype": "text/x-python",
   "name": "python",
   "nbconvert_exporter": "python",
   "pygments_lexer": "ipython3",
   "version": "3.12.7"
  }
 },
 "nbformat": 4,
 "nbformat_minor": 5
}
